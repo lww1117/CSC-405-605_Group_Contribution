{
 "cells": [
  {
   "cell_type": "markdown",
   "id": "c538d237",
   "metadata": {},
   "source": [
    "# Stage 4 Alyiah Proctor"
   ]
  },
  {
   "cell_type": "code",
   "execution_count": 1,
   "id": "85219bcb",
   "metadata": {},
   "outputs": [],
   "source": [
    "import pandas as pd\n",
    "import scipy.stats as stats\n",
    "pd.options.plotting.backend = \"plotly\"\n",
    "import matplotlib.pyplot as plt\n",
    "import numpy as np\n",
    "import plotly.graph_objects as go\n",
    "from IPython.display import Image"
   ]
  },
  {
   "cell_type": "markdown",
   "id": "54a6d691",
   "metadata": {},
   "source": [
    "Reading in the data "
   ]
  },
  {
   "cell_type": "code",
   "execution_count": 2,
   "id": "6ccbee47",
   "metadata": {},
   "outputs": [],
   "source": [
    "cases = pd.read_csv(\"../../../../data/stage_2/covid_confirmed_usafacts.csv\")\n",
    "deaths =  pd.read_csv(\"../../../../data/stage_2/covid_deaths_usafacts.csv\")"
   ]
  },
  {
   "cell_type": "markdown",
   "id": "c6f88b3f",
   "metadata": {},
   "source": [
    "Sectioning out the state data. We will be analyzing Arizona "
   ]
  },
  {
   "cell_type": "code",
   "execution_count": 3,
   "id": "534a2060",
   "metadata": {},
   "outputs": [],
   "source": [
    "deaths = deaths.drop(deaths.index[cases['countyFIPS'] == 0])\n",
    "cases = cases.drop(cases.index[cases['countyFIPS'] == 0])\n",
    "\n",
    "#getting only arizona cases and deaths\n",
    "cases = cases.groupby('State')\n",
    "chunks = dict(list(cases))\n",
    "AZ_cases = chunks['AZ']\n",
    "\n",
    "deaths = deaths.groupby('State')\n",
    "chunks = dict(list(deaths))\n",
    "AZ_deaths = chunks['AZ']"
   ]
  },
  {
   "cell_type": "markdown",
   "id": "37821588",
   "metadata": {},
   "source": [
    "## Task 1"
   ]
  },
  {
   "cell_type": "markdown",
   "id": "24cb4284",
   "metadata": {},
   "source": [
    "The first day of infections in the state is 1/26/2020. So will drop the days before that"
   ]
  },
  {
   "cell_type": "code",
   "execution_count": 4,
   "id": "ed456060",
   "metadata": {},
   "outputs": [],
   "source": [
    "AZ_cases = AZ_cases.drop(['2020-01-22','2020-01-23','2020-01-24','2020-01-25'],axis =1)\n",
    "AZ_deaths = AZ_deaths.drop(['2020-01-22','2020-01-23','2020-01-24','2020-01-25'],axis =1)"
   ]
  },
  {
   "cell_type": "code",
   "execution_count": 5,
   "id": "55a2b294",
   "metadata": {},
   "outputs": [
    {
     "data": {
      "text/html": [
       "<div>\n",
       "<style scoped>\n",
       "    .dataframe tbody tr th:only-of-type {\n",
       "        vertical-align: middle;\n",
       "    }\n",
       "\n",
       "    .dataframe tbody tr th {\n",
       "        vertical-align: top;\n",
       "    }\n",
       "\n",
       "    .dataframe thead th {\n",
       "        text-align: right;\n",
       "    }\n",
       "</style>\n",
       "<table border=\"1\" class=\"dataframe\">\n",
       "  <thead>\n",
       "    <tr style=\"text-align: right;\">\n",
       "      <th></th>\n",
       "      <th>countyFIPS</th>\n",
       "      <th>County Name</th>\n",
       "      <th>State</th>\n",
       "      <th>StateFIPS</th>\n",
       "      <th>2020-01-26</th>\n",
       "      <th>2020-01-27</th>\n",
       "      <th>2020-01-28</th>\n",
       "      <th>2020-01-29</th>\n",
       "      <th>2020-01-30</th>\n",
       "      <th>2020-01-31</th>\n",
       "      <th>...</th>\n",
       "      <th>2021-08-07</th>\n",
       "      <th>2021-08-08</th>\n",
       "      <th>2021-08-09</th>\n",
       "      <th>2021-08-10</th>\n",
       "      <th>2021-08-11</th>\n",
       "      <th>2021-08-12</th>\n",
       "      <th>2021-08-13</th>\n",
       "      <th>2021-08-14</th>\n",
       "      <th>2021-08-15</th>\n",
       "      <th>2021-08-16</th>\n",
       "    </tr>\n",
       "  </thead>\n",
       "  <tbody>\n",
       "    <tr>\n",
       "      <th>99</th>\n",
       "      <td>4001</td>\n",
       "      <td>Apache County</td>\n",
       "      <td>AZ</td>\n",
       "      <td>4</td>\n",
       "      <td>0</td>\n",
       "      <td>0</td>\n",
       "      <td>0</td>\n",
       "      <td>0</td>\n",
       "      <td>0</td>\n",
       "      <td>0</td>\n",
       "      <td>...</td>\n",
       "      <td>11827</td>\n",
       "      <td>11827</td>\n",
       "      <td>11871</td>\n",
       "      <td>11875</td>\n",
       "      <td>11890</td>\n",
       "      <td>11918</td>\n",
       "      <td>11965</td>\n",
       "      <td>11965</td>\n",
       "      <td>11965</td>\n",
       "      <td>12067</td>\n",
       "    </tr>\n",
       "    <tr>\n",
       "      <th>100</th>\n",
       "      <td>4003</td>\n",
       "      <td>Cochise County</td>\n",
       "      <td>AZ</td>\n",
       "      <td>4</td>\n",
       "      <td>0</td>\n",
       "      <td>0</td>\n",
       "      <td>0</td>\n",
       "      <td>0</td>\n",
       "      <td>0</td>\n",
       "      <td>0</td>\n",
       "      <td>...</td>\n",
       "      <td>12477</td>\n",
       "      <td>12477</td>\n",
       "      <td>12530</td>\n",
       "      <td>12545</td>\n",
       "      <td>12564</td>\n",
       "      <td>12586</td>\n",
       "      <td>12604</td>\n",
       "      <td>12604</td>\n",
       "      <td>12604</td>\n",
       "      <td>12663</td>\n",
       "    </tr>\n",
       "    <tr>\n",
       "      <th>101</th>\n",
       "      <td>4005</td>\n",
       "      <td>Coconino County</td>\n",
       "      <td>AZ</td>\n",
       "      <td>4</td>\n",
       "      <td>0</td>\n",
       "      <td>0</td>\n",
       "      <td>0</td>\n",
       "      <td>0</td>\n",
       "      <td>0</td>\n",
       "      <td>0</td>\n",
       "      <td>...</td>\n",
       "      <td>18791</td>\n",
       "      <td>18791</td>\n",
       "      <td>18893</td>\n",
       "      <td>18945</td>\n",
       "      <td>18958</td>\n",
       "      <td>19007</td>\n",
       "      <td>19069</td>\n",
       "      <td>19069</td>\n",
       "      <td>19069</td>\n",
       "      <td>19204</td>\n",
       "    </tr>\n",
       "    <tr>\n",
       "      <th>102</th>\n",
       "      <td>4007</td>\n",
       "      <td>Gila County</td>\n",
       "      <td>AZ</td>\n",
       "      <td>4</td>\n",
       "      <td>0</td>\n",
       "      <td>0</td>\n",
       "      <td>0</td>\n",
       "      <td>0</td>\n",
       "      <td>0</td>\n",
       "      <td>0</td>\n",
       "      <td>...</td>\n",
       "      <td>7441</td>\n",
       "      <td>7441</td>\n",
       "      <td>7495</td>\n",
       "      <td>7520</td>\n",
       "      <td>7544</td>\n",
       "      <td>7554</td>\n",
       "      <td>7590</td>\n",
       "      <td>7590</td>\n",
       "      <td>7590</td>\n",
       "      <td>7644</td>\n",
       "    </tr>\n",
       "    <tr>\n",
       "      <th>103</th>\n",
       "      <td>4009</td>\n",
       "      <td>Graham County</td>\n",
       "      <td>AZ</td>\n",
       "      <td>4</td>\n",
       "      <td>0</td>\n",
       "      <td>0</td>\n",
       "      <td>0</td>\n",
       "      <td>0</td>\n",
       "      <td>0</td>\n",
       "      <td>0</td>\n",
       "      <td>...</td>\n",
       "      <td>5719</td>\n",
       "      <td>5719</td>\n",
       "      <td>5740</td>\n",
       "      <td>5750</td>\n",
       "      <td>5756</td>\n",
       "      <td>5781</td>\n",
       "      <td>5792</td>\n",
       "      <td>5792</td>\n",
       "      <td>5792</td>\n",
       "      <td>5838</td>\n",
       "    </tr>\n",
       "    <tr>\n",
       "      <th>104</th>\n",
       "      <td>4011</td>\n",
       "      <td>Greenlee County</td>\n",
       "      <td>AZ</td>\n",
       "      <td>4</td>\n",
       "      <td>0</td>\n",
       "      <td>0</td>\n",
       "      <td>0</td>\n",
       "      <td>0</td>\n",
       "      <td>0</td>\n",
       "      <td>0</td>\n",
       "      <td>...</td>\n",
       "      <td>626</td>\n",
       "      <td>626</td>\n",
       "      <td>631</td>\n",
       "      <td>635</td>\n",
       "      <td>638</td>\n",
       "      <td>640</td>\n",
       "      <td>643</td>\n",
       "      <td>643</td>\n",
       "      <td>643</td>\n",
       "      <td>651</td>\n",
       "    </tr>\n",
       "    <tr>\n",
       "      <th>105</th>\n",
       "      <td>4012</td>\n",
       "      <td>La Paz County</td>\n",
       "      <td>AZ</td>\n",
       "      <td>4</td>\n",
       "      <td>0</td>\n",
       "      <td>0</td>\n",
       "      <td>0</td>\n",
       "      <td>0</td>\n",
       "      <td>0</td>\n",
       "      <td>0</td>\n",
       "      <td>...</td>\n",
       "      <td>2600</td>\n",
       "      <td>2600</td>\n",
       "      <td>2603</td>\n",
       "      <td>2605</td>\n",
       "      <td>2609</td>\n",
       "      <td>2614</td>\n",
       "      <td>2622</td>\n",
       "      <td>2622</td>\n",
       "      <td>2622</td>\n",
       "      <td>2628</td>\n",
       "    </tr>\n",
       "    <tr>\n",
       "      <th>106</th>\n",
       "      <td>4013</td>\n",
       "      <td>Maricopa County</td>\n",
       "      <td>AZ</td>\n",
       "      <td>4</td>\n",
       "      <td>1</td>\n",
       "      <td>1</td>\n",
       "      <td>1</td>\n",
       "      <td>1</td>\n",
       "      <td>1</td>\n",
       "      <td>1</td>\n",
       "      <td>...</td>\n",
       "      <td>591728</td>\n",
       "      <td>591728</td>\n",
       "      <td>597401</td>\n",
       "      <td>598994</td>\n",
       "      <td>600368</td>\n",
       "      <td>602308</td>\n",
       "      <td>604387</td>\n",
       "      <td>604387</td>\n",
       "      <td>604387</td>\n",
       "      <td>610724</td>\n",
       "    </tr>\n",
       "    <tr>\n",
       "      <th>107</th>\n",
       "      <td>4015</td>\n",
       "      <td>Mohave County</td>\n",
       "      <td>AZ</td>\n",
       "      <td>4</td>\n",
       "      <td>0</td>\n",
       "      <td>0</td>\n",
       "      <td>0</td>\n",
       "      <td>0</td>\n",
       "      <td>0</td>\n",
       "      <td>0</td>\n",
       "      <td>...</td>\n",
       "      <td>25954</td>\n",
       "      <td>25954</td>\n",
       "      <td>26141</td>\n",
       "      <td>26265</td>\n",
       "      <td>26381</td>\n",
       "      <td>26500</td>\n",
       "      <td>26641</td>\n",
       "      <td>26641</td>\n",
       "      <td>26641</td>\n",
       "      <td>26890</td>\n",
       "    </tr>\n",
       "    <tr>\n",
       "      <th>108</th>\n",
       "      <td>4017</td>\n",
       "      <td>Navajo County</td>\n",
       "      <td>AZ</td>\n",
       "      <td>4</td>\n",
       "      <td>0</td>\n",
       "      <td>0</td>\n",
       "      <td>0</td>\n",
       "      <td>0</td>\n",
       "      <td>0</td>\n",
       "      <td>0</td>\n",
       "      <td>...</td>\n",
       "      <td>17455</td>\n",
       "      <td>17455</td>\n",
       "      <td>17526</td>\n",
       "      <td>17544</td>\n",
       "      <td>17568</td>\n",
       "      <td>17660</td>\n",
       "      <td>17685</td>\n",
       "      <td>17685</td>\n",
       "      <td>17685</td>\n",
       "      <td>17774</td>\n",
       "    </tr>\n",
       "    <tr>\n",
       "      <th>109</th>\n",
       "      <td>4019</td>\n",
       "      <td>Pima County</td>\n",
       "      <td>AZ</td>\n",
       "      <td>4</td>\n",
       "      <td>0</td>\n",
       "      <td>0</td>\n",
       "      <td>0</td>\n",
       "      <td>0</td>\n",
       "      <td>0</td>\n",
       "      <td>0</td>\n",
       "      <td>...</td>\n",
       "      <td>121281</td>\n",
       "      <td>121281</td>\n",
       "      <td>121770</td>\n",
       "      <td>122012</td>\n",
       "      <td>122068</td>\n",
       "      <td>122363</td>\n",
       "      <td>122635</td>\n",
       "      <td>122635</td>\n",
       "      <td>122635</td>\n",
       "      <td>123403</td>\n",
       "    </tr>\n",
       "    <tr>\n",
       "      <th>110</th>\n",
       "      <td>4021</td>\n",
       "      <td>Pinal County</td>\n",
       "      <td>AZ</td>\n",
       "      <td>4</td>\n",
       "      <td>0</td>\n",
       "      <td>0</td>\n",
       "      <td>0</td>\n",
       "      <td>0</td>\n",
       "      <td>0</td>\n",
       "      <td>0</td>\n",
       "      <td>...</td>\n",
       "      <td>57501</td>\n",
       "      <td>57501</td>\n",
       "      <td>57868</td>\n",
       "      <td>58270</td>\n",
       "      <td>58496</td>\n",
       "      <td>58752</td>\n",
       "      <td>59009</td>\n",
       "      <td>59009</td>\n",
       "      <td>59009</td>\n",
       "      <td>59552</td>\n",
       "    </tr>\n",
       "    <tr>\n",
       "      <th>111</th>\n",
       "      <td>4023</td>\n",
       "      <td>Santa Cruz County</td>\n",
       "      <td>AZ</td>\n",
       "      <td>4</td>\n",
       "      <td>0</td>\n",
       "      <td>0</td>\n",
       "      <td>0</td>\n",
       "      <td>0</td>\n",
       "      <td>0</td>\n",
       "      <td>0</td>\n",
       "      <td>...</td>\n",
       "      <td>8259</td>\n",
       "      <td>8259</td>\n",
       "      <td>8276</td>\n",
       "      <td>8281</td>\n",
       "      <td>8287</td>\n",
       "      <td>8301</td>\n",
       "      <td>8314</td>\n",
       "      <td>8314</td>\n",
       "      <td>8314</td>\n",
       "      <td>8346</td>\n",
       "    </tr>\n",
       "    <tr>\n",
       "      <th>112</th>\n",
       "      <td>4025</td>\n",
       "      <td>Yavapai County</td>\n",
       "      <td>AZ</td>\n",
       "      <td>4</td>\n",
       "      <td>0</td>\n",
       "      <td>0</td>\n",
       "      <td>0</td>\n",
       "      <td>0</td>\n",
       "      <td>0</td>\n",
       "      <td>0</td>\n",
       "      <td>...</td>\n",
       "      <td>21359</td>\n",
       "      <td>21359</td>\n",
       "      <td>21578</td>\n",
       "      <td>21641</td>\n",
       "      <td>21710</td>\n",
       "      <td>21775</td>\n",
       "      <td>21897</td>\n",
       "      <td>21897</td>\n",
       "      <td>21897</td>\n",
       "      <td>22186</td>\n",
       "    </tr>\n",
       "    <tr>\n",
       "      <th>113</th>\n",
       "      <td>4027</td>\n",
       "      <td>Yuma County</td>\n",
       "      <td>AZ</td>\n",
       "      <td>4</td>\n",
       "      <td>0</td>\n",
       "      <td>0</td>\n",
       "      <td>0</td>\n",
       "      <td>0</td>\n",
       "      <td>0</td>\n",
       "      <td>0</td>\n",
       "      <td>...</td>\n",
       "      <td>37744</td>\n",
       "      <td>37744</td>\n",
       "      <td>37922</td>\n",
       "      <td>37944</td>\n",
       "      <td>37960</td>\n",
       "      <td>38038</td>\n",
       "      <td>38138</td>\n",
       "      <td>38138</td>\n",
       "      <td>38138</td>\n",
       "      <td>38292</td>\n",
       "    </tr>\n",
       "  </tbody>\n",
       "</table>\n",
       "<p>15 rows × 573 columns</p>\n",
       "</div>"
      ],
      "text/plain": [
       "     countyFIPS         County Name State  StateFIPS  2020-01-26  2020-01-27  \\\n",
       "99         4001      Apache County     AZ          4           0           0   \n",
       "100        4003     Cochise County     AZ          4           0           0   \n",
       "101        4005    Coconino County     AZ          4           0           0   \n",
       "102        4007        Gila County     AZ          4           0           0   \n",
       "103        4009      Graham County     AZ          4           0           0   \n",
       "104        4011    Greenlee County     AZ          4           0           0   \n",
       "105        4012      La Paz County     AZ          4           0           0   \n",
       "106        4013    Maricopa County     AZ          4           1           1   \n",
       "107        4015      Mohave County     AZ          4           0           0   \n",
       "108        4017      Navajo County     AZ          4           0           0   \n",
       "109        4019        Pima County     AZ          4           0           0   \n",
       "110        4021       Pinal County     AZ          4           0           0   \n",
       "111        4023  Santa Cruz County     AZ          4           0           0   \n",
       "112        4025     Yavapai County     AZ          4           0           0   \n",
       "113        4027        Yuma County     AZ          4           0           0   \n",
       "\n",
       "     2020-01-28  2020-01-29  2020-01-30  2020-01-31  ...  2021-08-07  \\\n",
       "99            0           0           0           0  ...       11827   \n",
       "100           0           0           0           0  ...       12477   \n",
       "101           0           0           0           0  ...       18791   \n",
       "102           0           0           0           0  ...        7441   \n",
       "103           0           0           0           0  ...        5719   \n",
       "104           0           0           0           0  ...         626   \n",
       "105           0           0           0           0  ...        2600   \n",
       "106           1           1           1           1  ...      591728   \n",
       "107           0           0           0           0  ...       25954   \n",
       "108           0           0           0           0  ...       17455   \n",
       "109           0           0           0           0  ...      121281   \n",
       "110           0           0           0           0  ...       57501   \n",
       "111           0           0           0           0  ...        8259   \n",
       "112           0           0           0           0  ...       21359   \n",
       "113           0           0           0           0  ...       37744   \n",
       "\n",
       "     2021-08-08  2021-08-09  2021-08-10  2021-08-11  2021-08-12  2021-08-13  \\\n",
       "99        11827       11871       11875       11890       11918       11965   \n",
       "100       12477       12530       12545       12564       12586       12604   \n",
       "101       18791       18893       18945       18958       19007       19069   \n",
       "102        7441        7495        7520        7544        7554        7590   \n",
       "103        5719        5740        5750        5756        5781        5792   \n",
       "104         626         631         635         638         640         643   \n",
       "105        2600        2603        2605        2609        2614        2622   \n",
       "106      591728      597401      598994      600368      602308      604387   \n",
       "107       25954       26141       26265       26381       26500       26641   \n",
       "108       17455       17526       17544       17568       17660       17685   \n",
       "109      121281      121770      122012      122068      122363      122635   \n",
       "110       57501       57868       58270       58496       58752       59009   \n",
       "111        8259        8276        8281        8287        8301        8314   \n",
       "112       21359       21578       21641       21710       21775       21897   \n",
       "113       37744       37922       37944       37960       38038       38138   \n",
       "\n",
       "     2021-08-14  2021-08-15  2021-08-16  \n",
       "99        11965       11965       12067  \n",
       "100       12604       12604       12663  \n",
       "101       19069       19069       19204  \n",
       "102        7590        7590        7644  \n",
       "103        5792        5792        5838  \n",
       "104         643         643         651  \n",
       "105        2622        2622        2628  \n",
       "106      604387      604387      610724  \n",
       "107       26641       26641       26890  \n",
       "108       17685       17685       17774  \n",
       "109      122635      122635      123403  \n",
       "110       59009       59009       59552  \n",
       "111        8314        8314        8346  \n",
       "112       21897       21897       22186  \n",
       "113       38138       38138       38292  \n",
       "\n",
       "[15 rows x 573 columns]"
      ]
     },
     "execution_count": 5,
     "metadata": {},
     "output_type": "execute_result"
    }
   ],
   "source": [
    "AZ_cases"
   ]
  },
  {
   "cell_type": "markdown",
   "id": "efb9854b",
   "metadata": {},
   "source": [
    "Getting the new cases and deaths per day "
   ]
  },
  {
   "cell_type": "code",
   "execution_count": 6,
   "id": "58e4f6c5",
   "metadata": {
    "scrolled": true
   },
   "outputs": [
    {
     "name": "stderr",
     "output_type": "stream",
     "text": [
      "C:\\Users\\alyia\\AppData\\Local\\Temp\\ipykernel_49320\\2468001699.py:3: PerformanceWarning: DataFrame is highly fragmented.  This is usually the result of calling `frame.insert` many times, which has poor performance.  Consider joining all columns at once using pd.concat(axis=1) instead.  To get a de-fragmented frame, use `newframe = frame.copy()`\n",
      "  AZ_new_cases[column] = AZ_cases.iloc[:,column] - AZ_cases.iloc[:,column-1]\n",
      "C:\\Users\\alyia\\AppData\\Local\\Temp\\ipykernel_49320\\2468001699.py:7: PerformanceWarning: DataFrame is highly fragmented.  This is usually the result of calling `frame.insert` many times, which has poor performance.  Consider joining all columns at once using pd.concat(axis=1) instead.  To get a de-fragmented frame, use `newframe = frame.copy()`\n",
      "  AZ_new_deaths[column] = AZ_deaths.iloc[:,column] - AZ_deaths.iloc[:,column-1]\n"
     ]
    }
   ],
   "source": [
    "AZ_new_cases = pd.DataFrame()\n",
    "for column in range(5,573):\n",
    "  AZ_new_cases[column] = AZ_cases.iloc[:,column] - AZ_cases.iloc[:,column-1] \n",
    "\n",
    "AZ_new_deaths = pd.DataFrame()\n",
    "for column in range(5,573):\n",
    "  AZ_new_deaths[column] = AZ_deaths.iloc[:,column] - AZ_deaths.iloc[:,column-1] "
   ]
  },
  {
   "cell_type": "code",
   "execution_count": 7,
   "id": "890b0fff",
   "metadata": {},
   "outputs": [
    {
     "data": {
      "text/html": [
       "<div>\n",
       "<style scoped>\n",
       "    .dataframe tbody tr th:only-of-type {\n",
       "        vertical-align: middle;\n",
       "    }\n",
       "\n",
       "    .dataframe tbody tr th {\n",
       "        vertical-align: top;\n",
       "    }\n",
       "\n",
       "    .dataframe thead th {\n",
       "        text-align: right;\n",
       "    }\n",
       "</style>\n",
       "<table border=\"1\" class=\"dataframe\">\n",
       "  <thead>\n",
       "    <tr style=\"text-align: right;\">\n",
       "      <th></th>\n",
       "      <th>5</th>\n",
       "      <th>6</th>\n",
       "      <th>7</th>\n",
       "      <th>8</th>\n",
       "      <th>9</th>\n",
       "      <th>10</th>\n",
       "      <th>11</th>\n",
       "      <th>12</th>\n",
       "      <th>13</th>\n",
       "      <th>14</th>\n",
       "      <th>...</th>\n",
       "      <th>563</th>\n",
       "      <th>564</th>\n",
       "      <th>565</th>\n",
       "      <th>566</th>\n",
       "      <th>567</th>\n",
       "      <th>568</th>\n",
       "      <th>569</th>\n",
       "      <th>570</th>\n",
       "      <th>571</th>\n",
       "      <th>572</th>\n",
       "    </tr>\n",
       "  </thead>\n",
       "  <tbody>\n",
       "    <tr>\n",
       "      <th>99</th>\n",
       "      <td>0</td>\n",
       "      <td>0</td>\n",
       "      <td>0</td>\n",
       "      <td>0</td>\n",
       "      <td>0</td>\n",
       "      <td>0</td>\n",
       "      <td>0</td>\n",
       "      <td>0</td>\n",
       "      <td>0</td>\n",
       "      <td>0</td>\n",
       "      <td>...</td>\n",
       "      <td>0</td>\n",
       "      <td>0</td>\n",
       "      <td>44</td>\n",
       "      <td>4</td>\n",
       "      <td>15</td>\n",
       "      <td>28</td>\n",
       "      <td>47</td>\n",
       "      <td>0</td>\n",
       "      <td>0</td>\n",
       "      <td>102</td>\n",
       "    </tr>\n",
       "    <tr>\n",
       "      <th>100</th>\n",
       "      <td>0</td>\n",
       "      <td>0</td>\n",
       "      <td>0</td>\n",
       "      <td>0</td>\n",
       "      <td>0</td>\n",
       "      <td>0</td>\n",
       "      <td>0</td>\n",
       "      <td>0</td>\n",
       "      <td>0</td>\n",
       "      <td>0</td>\n",
       "      <td>...</td>\n",
       "      <td>0</td>\n",
       "      <td>0</td>\n",
       "      <td>53</td>\n",
       "      <td>15</td>\n",
       "      <td>19</td>\n",
       "      <td>22</td>\n",
       "      <td>18</td>\n",
       "      <td>0</td>\n",
       "      <td>0</td>\n",
       "      <td>59</td>\n",
       "    </tr>\n",
       "    <tr>\n",
       "      <th>101</th>\n",
       "      <td>0</td>\n",
       "      <td>0</td>\n",
       "      <td>0</td>\n",
       "      <td>0</td>\n",
       "      <td>0</td>\n",
       "      <td>0</td>\n",
       "      <td>0</td>\n",
       "      <td>0</td>\n",
       "      <td>0</td>\n",
       "      <td>0</td>\n",
       "      <td>...</td>\n",
       "      <td>0</td>\n",
       "      <td>0</td>\n",
       "      <td>102</td>\n",
       "      <td>52</td>\n",
       "      <td>13</td>\n",
       "      <td>49</td>\n",
       "      <td>62</td>\n",
       "      <td>0</td>\n",
       "      <td>0</td>\n",
       "      <td>135</td>\n",
       "    </tr>\n",
       "    <tr>\n",
       "      <th>102</th>\n",
       "      <td>0</td>\n",
       "      <td>0</td>\n",
       "      <td>0</td>\n",
       "      <td>0</td>\n",
       "      <td>0</td>\n",
       "      <td>0</td>\n",
       "      <td>0</td>\n",
       "      <td>0</td>\n",
       "      <td>0</td>\n",
       "      <td>0</td>\n",
       "      <td>...</td>\n",
       "      <td>0</td>\n",
       "      <td>0</td>\n",
       "      <td>54</td>\n",
       "      <td>25</td>\n",
       "      <td>24</td>\n",
       "      <td>10</td>\n",
       "      <td>36</td>\n",
       "      <td>0</td>\n",
       "      <td>0</td>\n",
       "      <td>54</td>\n",
       "    </tr>\n",
       "    <tr>\n",
       "      <th>103</th>\n",
       "      <td>0</td>\n",
       "      <td>0</td>\n",
       "      <td>0</td>\n",
       "      <td>0</td>\n",
       "      <td>0</td>\n",
       "      <td>0</td>\n",
       "      <td>0</td>\n",
       "      <td>0</td>\n",
       "      <td>0</td>\n",
       "      <td>0</td>\n",
       "      <td>...</td>\n",
       "      <td>0</td>\n",
       "      <td>0</td>\n",
       "      <td>21</td>\n",
       "      <td>10</td>\n",
       "      <td>6</td>\n",
       "      <td>25</td>\n",
       "      <td>11</td>\n",
       "      <td>0</td>\n",
       "      <td>0</td>\n",
       "      <td>46</td>\n",
       "    </tr>\n",
       "  </tbody>\n",
       "</table>\n",
       "<p>5 rows × 568 columns</p>\n",
       "</div>"
      ],
      "text/plain": [
       "     5    6    7    8    9    10   11   12   13   14   ...  563  564  565  \\\n",
       "99     0    0    0    0    0    0    0    0    0    0  ...    0    0   44   \n",
       "100    0    0    0    0    0    0    0    0    0    0  ...    0    0   53   \n",
       "101    0    0    0    0    0    0    0    0    0    0  ...    0    0  102   \n",
       "102    0    0    0    0    0    0    0    0    0    0  ...    0    0   54   \n",
       "103    0    0    0    0    0    0    0    0    0    0  ...    0    0   21   \n",
       "\n",
       "     566  567  568  569  570  571  572  \n",
       "99     4   15   28   47    0    0  102  \n",
       "100   15   19   22   18    0    0   59  \n",
       "101   52   13   49   62    0    0  135  \n",
       "102   25   24   10   36    0    0   54  \n",
       "103   10    6   25   11    0    0   46  \n",
       "\n",
       "[5 rows x 568 columns]"
      ]
     },
     "execution_count": 7,
     "metadata": {},
     "output_type": "execute_result"
    }
   ],
   "source": [
    "#adding in the county identifiers \n",
    "#AZ_new_cases = AZ_new_cases.join(AZ_cases['County Name'])\n",
    "AZ_new_cases.head()"
   ]
  },
  {
   "cell_type": "markdown",
   "id": "8faefa15",
   "metadata": {},
   "source": [
    "Getting the sum of all of the new cases "
   ]
  },
  {
   "cell_type": "code",
   "execution_count": 8,
   "id": "3a89a1ab",
   "metadata": {
    "scrolled": false
   },
   "outputs": [
    {
     "data": {
      "text/plain": [
       "99      12067\n",
       "100     12663\n",
       "101     19204\n",
       "102      7644\n",
       "103      5838\n",
       "104       651\n",
       "105      2628\n",
       "106    610723\n",
       "107     26890\n",
       "108     17774\n",
       "109    123403\n",
       "110     59552\n",
       "111      8346\n",
       "112     22186\n",
       "113     38292\n",
       "dtype: int64"
      ]
     },
     "execution_count": 8,
     "metadata": {},
     "output_type": "execute_result"
    }
   ],
   "source": [
    "AZ_new_cases.sum(axis = 1)"
   ]
  },
  {
   "cell_type": "markdown",
   "id": "7a149196",
   "metadata": {},
   "source": [
    "Based on this the counties most at risk are 109,106,101,100,and 99. So we will filter out these counties from our table "
   ]
  },
  {
   "cell_type": "code",
   "execution_count": 9,
   "id": "d2946962",
   "metadata": {},
   "outputs": [
    {
     "data": {
      "text/html": [
       "<div>\n",
       "<style scoped>\n",
       "    .dataframe tbody tr th:only-of-type {\n",
       "        vertical-align: middle;\n",
       "    }\n",
       "\n",
       "    .dataframe tbody tr th {\n",
       "        vertical-align: top;\n",
       "    }\n",
       "\n",
       "    .dataframe thead th {\n",
       "        text-align: right;\n",
       "    }\n",
       "</style>\n",
       "<table border=\"1\" class=\"dataframe\">\n",
       "  <thead>\n",
       "    <tr style=\"text-align: right;\">\n",
       "      <th></th>\n",
       "      <th>5</th>\n",
       "      <th>6</th>\n",
       "      <th>7</th>\n",
       "      <th>8</th>\n",
       "      <th>9</th>\n",
       "      <th>10</th>\n",
       "      <th>11</th>\n",
       "      <th>12</th>\n",
       "      <th>13</th>\n",
       "      <th>14</th>\n",
       "      <th>...</th>\n",
       "      <th>563</th>\n",
       "      <th>564</th>\n",
       "      <th>565</th>\n",
       "      <th>566</th>\n",
       "      <th>567</th>\n",
       "      <th>568</th>\n",
       "      <th>569</th>\n",
       "      <th>570</th>\n",
       "      <th>571</th>\n",
       "      <th>572</th>\n",
       "    </tr>\n",
       "  </thead>\n",
       "  <tbody>\n",
       "    <tr>\n",
       "      <th>99</th>\n",
       "      <td>0</td>\n",
       "      <td>0</td>\n",
       "      <td>0</td>\n",
       "      <td>0</td>\n",
       "      <td>0</td>\n",
       "      <td>0</td>\n",
       "      <td>0</td>\n",
       "      <td>0</td>\n",
       "      <td>0</td>\n",
       "      <td>0</td>\n",
       "      <td>...</td>\n",
       "      <td>0</td>\n",
       "      <td>0</td>\n",
       "      <td>44</td>\n",
       "      <td>4</td>\n",
       "      <td>15</td>\n",
       "      <td>28</td>\n",
       "      <td>47</td>\n",
       "      <td>0</td>\n",
       "      <td>0</td>\n",
       "      <td>102</td>\n",
       "    </tr>\n",
       "    <tr>\n",
       "      <th>100</th>\n",
       "      <td>0</td>\n",
       "      <td>0</td>\n",
       "      <td>0</td>\n",
       "      <td>0</td>\n",
       "      <td>0</td>\n",
       "      <td>0</td>\n",
       "      <td>0</td>\n",
       "      <td>0</td>\n",
       "      <td>0</td>\n",
       "      <td>0</td>\n",
       "      <td>...</td>\n",
       "      <td>0</td>\n",
       "      <td>0</td>\n",
       "      <td>53</td>\n",
       "      <td>15</td>\n",
       "      <td>19</td>\n",
       "      <td>22</td>\n",
       "      <td>18</td>\n",
       "      <td>0</td>\n",
       "      <td>0</td>\n",
       "      <td>59</td>\n",
       "    </tr>\n",
       "    <tr>\n",
       "      <th>101</th>\n",
       "      <td>0</td>\n",
       "      <td>0</td>\n",
       "      <td>0</td>\n",
       "      <td>0</td>\n",
       "      <td>0</td>\n",
       "      <td>0</td>\n",
       "      <td>0</td>\n",
       "      <td>0</td>\n",
       "      <td>0</td>\n",
       "      <td>0</td>\n",
       "      <td>...</td>\n",
       "      <td>0</td>\n",
       "      <td>0</td>\n",
       "      <td>102</td>\n",
       "      <td>52</td>\n",
       "      <td>13</td>\n",
       "      <td>49</td>\n",
       "      <td>62</td>\n",
       "      <td>0</td>\n",
       "      <td>0</td>\n",
       "      <td>135</td>\n",
       "    </tr>\n",
       "    <tr>\n",
       "      <th>106</th>\n",
       "      <td>0</td>\n",
       "      <td>0</td>\n",
       "      <td>0</td>\n",
       "      <td>0</td>\n",
       "      <td>0</td>\n",
       "      <td>0</td>\n",
       "      <td>0</td>\n",
       "      <td>0</td>\n",
       "      <td>0</td>\n",
       "      <td>0</td>\n",
       "      <td>...</td>\n",
       "      <td>0</td>\n",
       "      <td>0</td>\n",
       "      <td>5673</td>\n",
       "      <td>1593</td>\n",
       "      <td>1374</td>\n",
       "      <td>1940</td>\n",
       "      <td>2079</td>\n",
       "      <td>0</td>\n",
       "      <td>0</td>\n",
       "      <td>6337</td>\n",
       "    </tr>\n",
       "    <tr>\n",
       "      <th>109</th>\n",
       "      <td>0</td>\n",
       "      <td>0</td>\n",
       "      <td>0</td>\n",
       "      <td>0</td>\n",
       "      <td>0</td>\n",
       "      <td>0</td>\n",
       "      <td>0</td>\n",
       "      <td>0</td>\n",
       "      <td>0</td>\n",
       "      <td>0</td>\n",
       "      <td>...</td>\n",
       "      <td>0</td>\n",
       "      <td>0</td>\n",
       "      <td>489</td>\n",
       "      <td>242</td>\n",
       "      <td>56</td>\n",
       "      <td>295</td>\n",
       "      <td>272</td>\n",
       "      <td>0</td>\n",
       "      <td>0</td>\n",
       "      <td>768</td>\n",
       "    </tr>\n",
       "  </tbody>\n",
       "</table>\n",
       "<p>5 rows × 568 columns</p>\n",
       "</div>"
      ],
      "text/plain": [
       "     5    6    7    8    9    10   11   12   13   14   ...  563  564   565  \\\n",
       "99     0    0    0    0    0    0    0    0    0    0  ...    0    0    44   \n",
       "100    0    0    0    0    0    0    0    0    0    0  ...    0    0    53   \n",
       "101    0    0    0    0    0    0    0    0    0    0  ...    0    0   102   \n",
       "106    0    0    0    0    0    0    0    0    0    0  ...    0    0  5673   \n",
       "109    0    0    0    0    0    0    0    0    0    0  ...    0    0   489   \n",
       "\n",
       "      566   567   568   569  570  571   572  \n",
       "99      4    15    28    47    0    0   102  \n",
       "100    15    19    22    18    0    0    59  \n",
       "101    52    13    49    62    0    0   135  \n",
       "106  1593  1374  1940  2079    0    0  6337  \n",
       "109   242    56   295   272    0    0   768  \n",
       "\n",
       "[5 rows x 568 columns]"
      ]
     },
     "execution_count": 9,
     "metadata": {},
     "output_type": "execute_result"
    }
   ],
   "source": [
    "AZ_sums_c = AZ_new_cases.iloc[[0,1,2,7,10]]\n",
    "AZ_sums_d = AZ_new_deaths.iloc[[0,1,2,7,10]]\n",
    "AZ_sums_c"
   ]
  },
  {
   "cell_type": "markdown",
   "id": "2be81faa",
   "metadata": {},
   "source": [
    "## fitting regression"
   ]
  },
  {
   "cell_type": "code",
   "execution_count": 10,
   "id": "175489f6",
   "metadata": {},
   "outputs": [
    {
     "data": {
      "text/html": [
       "<div>\n",
       "<style scoped>\n",
       "    .dataframe tbody tr th:only-of-type {\n",
       "        vertical-align: middle;\n",
       "    }\n",
       "\n",
       "    .dataframe tbody tr th {\n",
       "        vertical-align: top;\n",
       "    }\n",
       "\n",
       "    .dataframe thead th {\n",
       "        text-align: right;\n",
       "    }\n",
       "</style>\n",
       "<table border=\"1\" class=\"dataframe\">\n",
       "  <thead>\n",
       "    <tr style=\"text-align: right;\">\n",
       "      <th></th>\n",
       "      <th>99</th>\n",
       "      <th>100</th>\n",
       "      <th>101</th>\n",
       "      <th>106</th>\n",
       "      <th>109</th>\n",
       "    </tr>\n",
       "  </thead>\n",
       "  <tbody>\n",
       "    <tr>\n",
       "      <th>5</th>\n",
       "      <td>0</td>\n",
       "      <td>0</td>\n",
       "      <td>0</td>\n",
       "      <td>0</td>\n",
       "      <td>0</td>\n",
       "    </tr>\n",
       "    <tr>\n",
       "      <th>6</th>\n",
       "      <td>0</td>\n",
       "      <td>0</td>\n",
       "      <td>0</td>\n",
       "      <td>0</td>\n",
       "      <td>0</td>\n",
       "    </tr>\n",
       "    <tr>\n",
       "      <th>7</th>\n",
       "      <td>0</td>\n",
       "      <td>0</td>\n",
       "      <td>0</td>\n",
       "      <td>0</td>\n",
       "      <td>0</td>\n",
       "    </tr>\n",
       "    <tr>\n",
       "      <th>8</th>\n",
       "      <td>0</td>\n",
       "      <td>0</td>\n",
       "      <td>0</td>\n",
       "      <td>0</td>\n",
       "      <td>0</td>\n",
       "    </tr>\n",
       "    <tr>\n",
       "      <th>9</th>\n",
       "      <td>0</td>\n",
       "      <td>0</td>\n",
       "      <td>0</td>\n",
       "      <td>0</td>\n",
       "      <td>0</td>\n",
       "    </tr>\n",
       "    <tr>\n",
       "      <th>...</th>\n",
       "      <td>...</td>\n",
       "      <td>...</td>\n",
       "      <td>...</td>\n",
       "      <td>...</td>\n",
       "      <td>...</td>\n",
       "    </tr>\n",
       "    <tr>\n",
       "      <th>568</th>\n",
       "      <td>28</td>\n",
       "      <td>22</td>\n",
       "      <td>49</td>\n",
       "      <td>1940</td>\n",
       "      <td>295</td>\n",
       "    </tr>\n",
       "    <tr>\n",
       "      <th>569</th>\n",
       "      <td>47</td>\n",
       "      <td>18</td>\n",
       "      <td>62</td>\n",
       "      <td>2079</td>\n",
       "      <td>272</td>\n",
       "    </tr>\n",
       "    <tr>\n",
       "      <th>570</th>\n",
       "      <td>0</td>\n",
       "      <td>0</td>\n",
       "      <td>0</td>\n",
       "      <td>0</td>\n",
       "      <td>0</td>\n",
       "    </tr>\n",
       "    <tr>\n",
       "      <th>571</th>\n",
       "      <td>0</td>\n",
       "      <td>0</td>\n",
       "      <td>0</td>\n",
       "      <td>0</td>\n",
       "      <td>0</td>\n",
       "    </tr>\n",
       "    <tr>\n",
       "      <th>572</th>\n",
       "      <td>102</td>\n",
       "      <td>59</td>\n",
       "      <td>135</td>\n",
       "      <td>6337</td>\n",
       "      <td>768</td>\n",
       "    </tr>\n",
       "  </tbody>\n",
       "</table>\n",
       "<p>568 rows × 5 columns</p>\n",
       "</div>"
      ],
      "text/plain": [
       "     99   100  101   106  109\n",
       "5      0    0    0     0    0\n",
       "6      0    0    0     0    0\n",
       "7      0    0    0     0    0\n",
       "8      0    0    0     0    0\n",
       "9      0    0    0     0    0\n",
       "..   ...  ...  ...   ...  ...\n",
       "568   28   22   49  1940  295\n",
       "569   47   18   62  2079  272\n",
       "570    0    0    0     0    0\n",
       "571    0    0    0     0    0\n",
       "572  102   59  135  6337  768\n",
       "\n",
       "[568 rows x 5 columns]"
      ]
     },
     "execution_count": 10,
     "metadata": {},
     "output_type": "execute_result"
    }
   ],
   "source": [
    "data_c = AZ_sums_c.T\n",
    "data_d = AZ_sums_d.T\n",
    "data_c"
   ]
  },
  {
   "cell_type": "markdown",
   "id": "9677ae05",
   "metadata": {},
   "source": [
    "#### Apache county "
   ]
  },
  {
   "cell_type": "markdown",
   "id": "f5130f5b",
   "metadata": {},
   "source": [
    "#### cases"
   ]
  },
  {
   "cell_type": "code",
   "execution_count": 11,
   "id": "ffcae5cc",
   "metadata": {},
   "outputs": [
    {
     "data": {
      "text/plain": [
       "Intercept       18.659193\n",
       "data_c.index     0.008962\n",
       "dtype: float64"
      ]
     },
     "execution_count": 11,
     "metadata": {},
     "output_type": "execute_result"
    }
   ],
   "source": [
    "import statsmodels.formula.api as smf\n",
    "\n",
    "# create a fitted model for Apache county \n",
    "apache_rg_c = smf.ols(formula= 'data_c[99] ~ 1 + data_c.index', data= data_c).fit()\n",
    "# print the coefficients\n",
    "apache_rg_c.params"
   ]
  },
  {
   "cell_type": "markdown",
   "id": "0b97040d",
   "metadata": {},
   "source": [
    "So for one new case our days increase by .0089. Meaning Apache will have 1000 new cases every 8 days. "
   ]
  },
  {
   "cell_type": "code",
   "execution_count": 12,
   "id": "25d81cfc",
   "metadata": {},
   "outputs": [
    {
     "data": {
      "text/plain": [
       "Intercept                -8.230718\n",
       "data_c.index              0.284318\n",
       "I(data_c.index ** 2.0)   -0.000477\n",
       "dtype: float64"
      ]
     },
     "execution_count": 12,
     "metadata": {},
     "output_type": "execute_result"
    }
   ],
   "source": [
    "#2-nd order polynomial\n",
    "apache_poly_c = smf.ols(formula='data_c[99] ~ 1 + data_c.index+ I(data_c.index ** 2.0)', data=data_c).fit()\n",
    "apache_poly_c.params"
   ]
  },
  {
   "cell_type": "markdown",
   "id": "481db9d0",
   "metadata": {},
   "source": [
    "With a polynomial regression we get that for every new case we can expect a negative amount of days to pass. This model does not seem correct and the linear model seems to logically fit better. "
   ]
  },
  {
   "cell_type": "markdown",
   "id": "1b580c4e",
   "metadata": {},
   "source": [
    "#### deaths"
   ]
  },
  {
   "cell_type": "code",
   "execution_count": 13,
   "id": "2875f422",
   "metadata": {},
   "outputs": [
    {
     "data": {
      "text/plain": [
       "Intercept       0.721247\n",
       "data_d.index    0.000197\n",
       "dtype: float64"
      ]
     },
     "execution_count": 13,
     "metadata": {},
     "output_type": "execute_result"
    }
   ],
   "source": [
    "# create a fitted model for Apache county \n",
    "apache_rg_d = smf.ols(formula= 'data_d[99] ~ data_d.index', data= data_d).fit()\n",
    "# print the coefficients\n",
    "apache_rg_d.params"
   ]
  },
  {
   "cell_type": "markdown",
   "id": "f7867995",
   "metadata": {},
   "source": [
    "So for one new case our days increase by .0002. Meaning Apache will have 10000 new deaths every ~2 days. "
   ]
  },
  {
   "cell_type": "code",
   "execution_count": 14,
   "id": "a1abfcea",
   "metadata": {},
   "outputs": [
    {
     "data": {
      "text/plain": [
       "Intercept                -0.332510\n",
       "data_d.index              0.010988\n",
       "I(data_d.index ** 2.0)   -0.000019\n",
       "dtype: float64"
      ]
     },
     "execution_count": 14,
     "metadata": {},
     "output_type": "execute_result"
    }
   ],
   "source": [
    "#2-nd order polynomial\n",
    "apache_poly_2_d = smf.ols(formula='data_d[99] ~ 1 + data_d.index+ I(data_d.index ** 2.0)', data=data_d).fit()\n",
    "apache_poly_2_d.params"
   ]
  },
  {
   "cell_type": "markdown",
   "id": "f0c62e9e",
   "metadata": {},
   "source": [
    "With a polynomial regression we see that for one new death our days increase by .011. Meaning Apache will have 100 new deaths aproximatley every day. "
   ]
  },
  {
   "cell_type": "markdown",
   "id": "0cab353a",
   "metadata": {},
   "source": [
    "#### Cochise County\n"
   ]
  },
  {
   "cell_type": "markdown",
   "id": "4d74babd",
   "metadata": {},
   "source": [
    "#### cases"
   ]
  },
  {
   "cell_type": "code",
   "execution_count": 15,
   "id": "7902ab3b",
   "metadata": {},
   "outputs": [
    {
     "data": {
      "text/plain": [
       "Intercept       12.564219\n",
       "data_c.index     0.033725\n",
       "dtype: float64"
      ]
     },
     "execution_count": 15,
     "metadata": {},
     "output_type": "execute_result"
    }
   ],
   "source": [
    "# create a fitted model for Cochise county \n",
    "cochise_rg_c = smf.ols(formula= 'data_c[100] ~ 1 + data_c.index', data= data_c).fit()\n",
    "# print the coefficients\n",
    "cochise_rg_c.params"
   ]
  },
  {
   "cell_type": "markdown",
   "id": "29c07348",
   "metadata": {},
   "source": [
    "For one new case our days increase by .033. Meaning Cochise has 100 new cases every 3 days. "
   ]
  },
  {
   "cell_type": "code",
   "execution_count": 16,
   "id": "7e916b4c",
   "metadata": {},
   "outputs": [
    {
     "data": {
      "text/plain": [
       "Intercept                -25.790185\n",
       "data_c.index               0.426479\n",
       "I(data_c.index ** 2.0)    -0.000681\n",
       "dtype: float64"
      ]
     },
     "execution_count": 16,
     "metadata": {},
     "output_type": "execute_result"
    }
   ],
   "source": [
    "#2-nd order polynomial\n",
    "cochise_poly_c = smf.ols(formula='data_c[100] ~ 1 + data_c.index+ I(data_c.index ** 2.0)', data=data_c).fit()\n",
    "cochise_poly_c.params"
   ]
  },
  {
   "cell_type": "markdown",
   "id": "2287699a",
   "metadata": {},
   "source": [
    "With polynomial regression, for one new case our days increase by .42. Meaning Cochise has 10 new cases every 4 days. "
   ]
  },
  {
   "cell_type": "markdown",
   "id": "5c60bda1",
   "metadata": {},
   "source": [
    "#### deaths "
   ]
  },
  {
   "cell_type": "code",
   "execution_count": 17,
   "id": "f8132d81",
   "metadata": {
    "scrolled": true
   },
   "outputs": [
    {
     "data": {
      "text/plain": [
       "Intercept       0.306034\n",
       "data_d.index    0.000770\n",
       "dtype: float64"
      ]
     },
     "execution_count": 17,
     "metadata": {},
     "output_type": "execute_result"
    }
   ],
   "source": [
    "# create a fitted model for cochise county \n",
    "cochise_rg_d = smf.ols(formula= 'data_d[100] ~ data_d.index', data= data_d).fit()\n",
    "# print the coefficients\n",
    "cochise_rg_d.params"
   ]
  },
  {
   "cell_type": "markdown",
   "id": "cfcb762c",
   "metadata": {},
   "source": [
    "For one new death our days increase by .0008. Meaning Cochise has 10000 new deaths every 8 days. "
   ]
  },
  {
   "cell_type": "code",
   "execution_count": 18,
   "id": "d6896228",
   "metadata": {
    "scrolled": true
   },
   "outputs": [
    {
     "data": {
      "text/plain": [
       "Intercept                -0.560340\n",
       "data_d.index              0.009642\n",
       "I(data_d.index ** 2.0)   -0.000015\n",
       "dtype: float64"
      ]
     },
     "execution_count": 18,
     "metadata": {},
     "output_type": "execute_result"
    }
   ],
   "source": [
    "#2-nd order polynomial\n",
    "cochise_poly_2_d = smf.ols(formula='data_d[100] ~ 1 + data_d.index+ I(data_d.index ** 2.0)', data=data_d).fit()\n",
    "cochise_poly_2_d.params"
   ]
  },
  {
   "cell_type": "markdown",
   "id": "da6405d5",
   "metadata": {},
   "source": [
    "With polynomial regression, for one new death our days increase by .0096. Meaning Cochise has 1000 new deaths ~ every 9 days. "
   ]
  },
  {
   "cell_type": "markdown",
   "id": "fd0daa07",
   "metadata": {},
   "source": [
    "### Coconino County"
   ]
  },
  {
   "cell_type": "markdown",
   "id": "a0fea541",
   "metadata": {},
   "source": [
    "#### cases"
   ]
  },
  {
   "cell_type": "code",
   "execution_count": 19,
   "id": "26ff469a",
   "metadata": {},
   "outputs": [
    {
     "data": {
      "text/plain": [
       "Intercept       22.435542\n",
       "data_c.index     0.039426\n",
       "dtype: float64"
      ]
     },
     "execution_count": 19,
     "metadata": {},
     "output_type": "execute_result"
    }
   ],
   "source": [
    "# create a fitted model for Cochise county \n",
    "coconino_rg_c = smf.ols(formula= 'data_c[101] ~ 1 + data_c.index', data= data_c).fit()\n",
    "# print the coefficients\n",
    "coconino_rg_c.params"
   ]
  },
  {
   "cell_type": "markdown",
   "id": "dce1779f",
   "metadata": {},
   "source": [
    "For one new case our days increase by .039. Meaning coconino has 100 new cases every 3 days. "
   ]
  },
  {
   "cell_type": "code",
   "execution_count": 20,
   "id": "194885ea",
   "metadata": {},
   "outputs": [
    {
     "data": {
      "text/plain": [
       "Intercept                -25.397383\n",
       "data_c.index               0.529241\n",
       "I(data_c.index ** 2.0)    -0.000849\n",
       "dtype: float64"
      ]
     },
     "execution_count": 20,
     "metadata": {},
     "output_type": "execute_result"
    }
   ],
   "source": [
    "#2-nd order polynomial\n",
    "coconino_poly_c = smf.ols(formula='data_c[101] ~ 1 + data_c.index+ I(data_c.index ** 2.0)', data=data_c).fit()\n",
    "coconino_poly_c.params"
   ]
  },
  {
   "cell_type": "markdown",
   "id": "0c130bf6",
   "metadata": {},
   "source": [
    "With polynomial regression, for one new case our days increase by .52. Meaning coconino has 10 new cases every 5 days. "
   ]
  },
  {
   "cell_type": "markdown",
   "id": "ac786403",
   "metadata": {},
   "source": [
    "#### deaths "
   ]
  },
  {
   "cell_type": "code",
   "execution_count": 21,
   "id": "5ba3a0c9",
   "metadata": {
    "scrolled": true
   },
   "outputs": [
    {
     "data": {
      "text/plain": [
       "Intercept       0.728594\n",
       "data_d.index   -0.000475\n",
       "dtype: float64"
      ]
     },
     "execution_count": 21,
     "metadata": {},
     "output_type": "execute_result"
    }
   ],
   "source": [
    "# create a fitted model for cochise county \n",
    "coconino_rg_d = smf.ols(formula= 'data_d[101] ~ data_d.index', data= data_d).fit()\n",
    "# print the coefficients\n",
    "coconino_rg_d.params"
   ]
  },
  {
   "cell_type": "markdown",
   "id": "b331117f",
   "metadata": {},
   "source": [
    "For one new death our days decrease by .00004. Meaning coconino has a decrease of  10000 new deaths every 4 days. This model does not make much sense "
   ]
  },
  {
   "cell_type": "code",
   "execution_count": 22,
   "id": "e7cbce03",
   "metadata": {
    "scrolled": true
   },
   "outputs": [
    {
     "data": {
      "text/plain": [
       "Intercept                 0.059286\n",
       "data_d.index              0.006379\n",
       "I(data_d.index ** 2.0)   -0.000012\n",
       "dtype: float64"
      ]
     },
     "execution_count": 22,
     "metadata": {},
     "output_type": "execute_result"
    }
   ],
   "source": [
    "#2-nd order polynomial\n",
    "coconino_poly_2_d = smf.ols(formula='data_d[101] ~ 1 + data_d.index+ I(data_d.index ** 2.0)', data=data_d).fit()\n",
    "coconino_poly_2_d.params"
   ]
  },
  {
   "cell_type": "markdown",
   "id": "5476a494",
   "metadata": {},
   "source": [
    "With polynomial regression, for one new death our days increase by .0066. Meaning coconino has 1000 new deaths ~ every 6 days. "
   ]
  },
  {
   "cell_type": "markdown",
   "id": "23cf17ef",
   "metadata": {},
   "source": [
    "### Maricopa County "
   ]
  },
  {
   "cell_type": "markdown",
   "id": "80c5afcd",
   "metadata": {},
   "source": [
    "#### cases"
   ]
  },
  {
   "cell_type": "code",
   "execution_count": 23,
   "id": "b64472a5",
   "metadata": {},
   "outputs": [
    {
     "data": {
      "text/plain": [
       "Intercept       611.531842\n",
       "data_c.index      1.607226\n",
       "dtype: float64"
      ]
     },
     "execution_count": 23,
     "metadata": {},
     "output_type": "execute_result"
    }
   ],
   "source": [
    "# create a fitted model for Maricopa county \n",
    "Maricopa_rg_c = smf.ols(formula= 'data_c[106] ~ 1 + data_c.index', data= data_c).fit()\n",
    "# print the coefficients\n",
    "Maricopa_rg_c.params"
   ]
  },
  {
   "cell_type": "markdown",
   "id": "e40d2944",
   "metadata": {},
   "source": [
    "For one new case our days increase by 1.6 Meaning Maricopa has 1 new cases ~ every 2 days. "
   ]
  },
  {
   "cell_type": "code",
   "execution_count": 24,
   "id": "966a64b6",
   "metadata": {},
   "outputs": [
    {
     "data": {
      "text/plain": [
       "Intercept                -721.338395\n",
       "data_c.index               15.255976\n",
       "I(data_c.index ** 2.0)     -0.023655\n",
       "dtype: float64"
      ]
     },
     "execution_count": 24,
     "metadata": {},
     "output_type": "execute_result"
    }
   ],
   "source": [
    "#2-nd order polynomial\n",
    "Maricopa_poly_c = smf.ols(formula='data_c[106] ~ 1 + data_c.index+ I(data_c.index ** 2.0)', data=data_c).fit()\n",
    "Maricopa_poly_c.params"
   ]
  },
  {
   "cell_type": "markdown",
   "id": "858d0393",
   "metadata": {},
   "source": [
    "With polynomial regression, for one new case our days increase by 15. Meaning Maricopa has 1 new cases ~ every 15 days. "
   ]
  },
  {
   "cell_type": "markdown",
   "id": "f835acc1",
   "metadata": {},
   "source": [
    "#### deaths "
   ]
  },
  {
   "cell_type": "code",
   "execution_count": 25,
   "id": "342cf536",
   "metadata": {
    "scrolled": true
   },
   "outputs": [
    {
     "data": {
      "text/plain": [
       "Intercept       13.279851\n",
       "data_d.index     0.018582\n",
       "dtype: float64"
      ]
     },
     "execution_count": 25,
     "metadata": {},
     "output_type": "execute_result"
    }
   ],
   "source": [
    "# create a fitted model for cochise county \n",
    "Maricopa_rg_d = smf.ols(formula= 'data_d[106] ~ data_d.index', data= data_d).fit()\n",
    "# print the coefficients\n",
    "Maricopa_rg_d.params"
   ]
  },
  {
   "cell_type": "markdown",
   "id": "f48be8ab",
   "metadata": {},
   "source": [
    "For one new death our days increase by .0208. Meaning Maricopa has an increase of 100 new deaths every 2 days."
   ]
  },
  {
   "cell_type": "code",
   "execution_count": 26,
   "id": "08b77d6e",
   "metadata": {
    "scrolled": true
   },
   "outputs": [
    {
     "data": {
      "text/plain": [
       "Intercept                -13.351960\n",
       "data_d.index               0.291295\n",
       "I(data_d.index ** 2.0)    -0.000473\n",
       "dtype: float64"
      ]
     },
     "execution_count": 26,
     "metadata": {},
     "output_type": "execute_result"
    }
   ],
   "source": [
    "#2-nd order polynomial\n",
    "Maricopa_poly_2_d = smf.ols(formula='data_d[106] ~ 1 + data_d.index+ I(data_d.index ** 2.0)', data=data_d).fit()\n",
    "Maricopa_poly_2_d.params"
   ]
  },
  {
   "cell_type": "markdown",
   "id": "8dc88559",
   "metadata": {},
   "source": [
    "With polynomial regression, for one new death our days increase by .29 . Meaning Maricopa has 10 new deaths ~ every 3 days. "
   ]
  },
  {
   "cell_type": "markdown",
   "id": "dac6432b",
   "metadata": {},
   "source": [
    "### Pima County"
   ]
  },
  {
   "cell_type": "code",
   "execution_count": 27,
   "id": "64015c11",
   "metadata": {},
   "outputs": [
    {
     "data": {
      "text/plain": [
       "Intercept       134.447201\n",
       "data_c.index      0.287042\n",
       "dtype: float64"
      ]
     },
     "execution_count": 27,
     "metadata": {},
     "output_type": "execute_result"
    }
   ],
   "source": [
    "# create a fitted model for Pima county \n",
    "Pima_rg_c = smf.ols(formula= 'data_c[109] ~ 1 + data_c.index', data= data_c).fit()\n",
    "# print the coefficients\n",
    "Pima_rg_c.params"
   ]
  },
  {
   "cell_type": "markdown",
   "id": "4087867a",
   "metadata": {},
   "source": [
    "For one new case our days increase by .287 Meaning Maricopa has 10 new cases ~ every 3 days. "
   ]
  },
  {
   "cell_type": "code",
   "execution_count": 28,
   "id": "b740a525",
   "metadata": {},
   "outputs": [
    {
     "data": {
      "text/plain": [
       "Intercept                -215.604205\n",
       "data_c.index                3.871610\n",
       "I(data_c.index ** 2.0)     -0.006212\n",
       "dtype: float64"
      ]
     },
     "execution_count": 28,
     "metadata": {},
     "output_type": "execute_result"
    }
   ],
   "source": [
    "#2-nd order polynomial\n",
    "Pima_poly_c = smf.ols(formula='data_c[109] ~ 1 + data_c.index+ I(data_c.index ** 2.0)', data=data_c).fit()\n",
    "Pima_poly_c.params"
   ]
  },
  {
   "cell_type": "markdown",
   "id": "20c7d095",
   "metadata": {},
   "source": [
    "With polynomial regression, for one new case our days increase by 3. Meaning Pima has 1 new cases ~ every 3 days. "
   ]
  },
  {
   "cell_type": "markdown",
   "id": "bd1af8a3",
   "metadata": {},
   "source": [
    "#### deaths "
   ]
  },
  {
   "cell_type": "code",
   "execution_count": 29,
   "id": "7cdd2754",
   "metadata": {
    "scrolled": true
   },
   "outputs": [
    {
     "data": {
      "text/plain": [
       "Intercept       2.964206\n",
       "data_d.index    0.004799\n",
       "dtype: float64"
      ]
     },
     "execution_count": 29,
     "metadata": {},
     "output_type": "execute_result"
    }
   ],
   "source": [
    "# create a fitted model for cochise county \n",
    "Pima_rg_d = smf.ols(formula= 'data_d[109] ~ data_d.index', data= data_d).fit()\n",
    "# print the coefficients\n",
    "Pima_rg_d.params"
   ]
  },
  {
   "cell_type": "markdown",
   "id": "2c89bf44",
   "metadata": {},
   "source": [
    "For one new death our days increase by .0047. Meaning Pima has an increase of 100 new deaths every 4 days."
   ]
  },
  {
   "cell_type": "code",
   "execution_count": 30,
   "id": "eaf68196",
   "metadata": {
    "scrolled": true
   },
   "outputs": [
    {
     "data": {
      "text/plain": [
       "Intercept                -3.602555\n",
       "data_d.index              0.072043\n",
       "I(data_d.index ** 2.0)   -0.000117\n",
       "dtype: float64"
      ]
     },
     "execution_count": 30,
     "metadata": {},
     "output_type": "execute_result"
    }
   ],
   "source": [
    "#2-nd order polynomial\n",
    "Pima_poly_2_d = smf.ols(formula='data_d[109] ~ 1 + data_d.index+ I(data_d.index ** 2.0)', data=data_d).fit()\n",
    "Pima_poly_2_d.params"
   ]
  },
  {
   "cell_type": "markdown",
   "id": "a1d64d9e",
   "metadata": {},
   "source": [
    "With polynomial regression, for one new death our days increase by .072 . Meaning Pima has 10 new deaths ~ every 7 days. "
   ]
  },
  {
   "cell_type": "markdown",
   "id": "11b27984",
   "metadata": {},
   "source": [
    "### Point of no return "
   ]
  },
  {
   "cell_type": "markdown",
   "id": "08a73b05",
   "metadata": {},
   "source": [
    "First we need to get data for Arizona new deaths as a whole "
   ]
  },
  {
   "cell_type": "markdown",
   "id": "e35cc5b5",
   "metadata": {},
   "source": [
    "We will use the column total_beds_7_day_avg to determine the capacity of hospital beds. The description of the column reads \n",
    "-  Average of total number of all staffed inpatient and outpatient beds in the hospital, including all overflow, observation, and active surge/expansion beds used for inpatients and for outpatients (including all ICU, ED, and observation) reported during the 7-day period.\n",
    "<br><br><br>\n",
    "So we will get that column for all Arizona hospitals"
   ]
  },
  {
   "cell_type": "code",
   "execution_count": 31,
   "id": "3c2394d2",
   "metadata": {
    "scrolled": false
   },
   "outputs": [
    {
     "data": {
      "text/html": [
       "<div>\n",
       "<style scoped>\n",
       "    .dataframe tbody tr th:only-of-type {\n",
       "        vertical-align: middle;\n",
       "    }\n",
       "\n",
       "    .dataframe tbody tr th {\n",
       "        vertical-align: top;\n",
       "    }\n",
       "\n",
       "    .dataframe thead th {\n",
       "        text-align: right;\n",
       "    }\n",
       "</style>\n",
       "<table border=\"1\" class=\"dataframe\">\n",
       "  <thead>\n",
       "    <tr style=\"text-align: right;\">\n",
       "      <th></th>\n",
       "      <th>state</th>\n",
       "      <th>total_beds_7_day_avg</th>\n",
       "    </tr>\n",
       "  </thead>\n",
       "  <tbody>\n",
       "    <tr>\n",
       "      <th>111</th>\n",
       "      <td>AZ</td>\n",
       "      <td>22.0</td>\n",
       "    </tr>\n",
       "    <tr>\n",
       "      <th>113</th>\n",
       "      <td>AZ</td>\n",
       "      <td>25.0</td>\n",
       "    </tr>\n",
       "    <tr>\n",
       "      <th>114</th>\n",
       "      <td>AZ</td>\n",
       "      <td>43.0</td>\n",
       "    </tr>\n",
       "    <tr>\n",
       "      <th>116</th>\n",
       "      <td>AZ</td>\n",
       "      <td>30.0</td>\n",
       "    </tr>\n",
       "    <tr>\n",
       "      <th>117</th>\n",
       "      <td>AZ</td>\n",
       "      <td>0.0</td>\n",
       "    </tr>\n",
       "    <tr>\n",
       "      <th>...</th>\n",
       "      <td>...</td>\n",
       "      <td>...</td>\n",
       "    </tr>\n",
       "    <tr>\n",
       "      <th>180</th>\n",
       "      <td>AZ</td>\n",
       "      <td>0.0</td>\n",
       "    </tr>\n",
       "    <tr>\n",
       "      <th>181</th>\n",
       "      <td>AZ</td>\n",
       "      <td>0.0</td>\n",
       "    </tr>\n",
       "    <tr>\n",
       "      <th>182</th>\n",
       "      <td>AZ</td>\n",
       "      <td>0.0</td>\n",
       "    </tr>\n",
       "    <tr>\n",
       "      <th>185</th>\n",
       "      <td>AZ</td>\n",
       "      <td>295.3</td>\n",
       "    </tr>\n",
       "    <tr>\n",
       "      <th>186</th>\n",
       "      <td>AZ</td>\n",
       "      <td>256.4</td>\n",
       "    </tr>\n",
       "  </tbody>\n",
       "</table>\n",
       "<p>72 rows × 2 columns</p>\n",
       "</div>"
      ],
      "text/plain": [
       "    state  total_beds_7_day_avg\n",
       "111    AZ                  22.0\n",
       "113    AZ                  25.0\n",
       "114    AZ                  43.0\n",
       "116    AZ                  30.0\n",
       "117    AZ                   0.0\n",
       "..    ...                   ...\n",
       "180    AZ                   0.0\n",
       "181    AZ                   0.0\n",
       "182    AZ                   0.0\n",
       "185    AZ                 295.3\n",
       "186    AZ                 256.4\n",
       "\n",
       "[72 rows x 2 columns]"
      ]
     },
     "execution_count": 31,
     "metadata": {},
     "output_type": "execute_result"
    }
   ],
   "source": [
    "hospital_beds = pd.read_csv(\"../../../../data/stage_1/Weekly_Hospital_Capacity.csv\")\n",
    "hospital_beds = hospital_beds[['state','total_beds_7_day_avg']]\n",
    "\n",
    "#getting only arizona values\n",
    "beds = hospital_beds.groupby('state')\n",
    "chunks = dict(list(beds))\n",
    "AZ_beds = chunks['AZ']\n",
    "AZ_beds"
   ]
  },
  {
   "cell_type": "markdown",
   "id": "1aa7cc16",
   "metadata": {},
   "source": [
    "Now we will get the sum, so the total number of hospital beds available in the state of Arizona "
   ]
  },
  {
   "cell_type": "code",
   "execution_count": 32,
   "id": "27b1806f",
   "metadata": {},
   "outputs": [
    {
     "data": {
      "text/plain": [
       "5028"
      ]
     },
     "execution_count": 32,
     "metadata": {},
     "output_type": "execute_result"
    }
   ],
   "source": [
    "AZ_beds = round(AZ_beds['total_beds_7_day_avg'].sum())\n",
    "AZ_beds"
   ]
  },
  {
   "cell_type": "markdown",
   "id": "27746118",
   "metadata": {},
   "source": [
    "Since the beds are calulated for the week. Lets group the new cases data by weeks as well."
   ]
  },
  {
   "cell_type": "code",
   "execution_count": 48,
   "id": "60744124",
   "metadata": {},
   "outputs": [
    {
     "data": {
      "image/png": "[encoded data removed]",
      "text/plain": [
       "<IPython.core.display.Image object>"
      ]
     },
     "execution_count": 48,
     "metadata": {},
     "output_type": "execute_result"
    }
   ],
   "source": [
    "AZ_week_deaths = AZ_new_deaths.groupby([[i//7 for i in range(0, 568)]], axis = 1).sum()\n",
    "AZ_week_deaths = pd.DataFrame(AZ_week_deaths.sum())\n",
    "fig = AZ_week_deaths.plot()\n",
    "img_bytes = fig.to_image(format=\"png\")\n",
    "Image(img_bytes)"
   ]
  },
  {
   "cell_type": "markdown",
   "id": "247745b2",
   "metadata": {},
   "source": [
    "So if our maximum number of beds in Arizona is 5028, it seems that Arizona never hit their point of no return. They might have felt the most pressure around week 48, where they were having over a thousand deaths in that week and the one following. But with 5000 beds available it seems that they would have been able to handle 1000 deaths. "
   ]
  },
  {
   "cell_type": "markdown",
   "id": "96fcec84",
   "metadata": {},
   "source": [
    "### Perform hypothesis tests on questions identified in Stage III"
   ]
  },
  {
   "cell_type": "markdown",
   "id": "d453eabd",
   "metadata": {},
   "source": [
    "- Do higher percentages of population over 18 lead to higher covid case numbers?\n",
    "- Do higher percentages of population under 5 lead to higher covid case numbers?\n",
    "- Do higher percentages of female population lead to higher covid case numbers?"
   ]
  },
  {
   "cell_type": "markdown",
   "id": "1f3ce9c9",
   "metadata": {},
   "source": [
    "Lets first input our demographic data and join it with our Arizona data. For easy comparison we will use the average amount of new cases per county. "
   ]
  },
  {
   "cell_type": "code",
   "execution_count": 34,
   "id": "40c6afe5",
   "metadata": {},
   "outputs": [
    {
     "data": {
      "text/html": [
       "<div>\n",
       "<style scoped>\n",
       "    .dataframe tbody tr th:only-of-type {\n",
       "        vertical-align: middle;\n",
       "    }\n",
       "\n",
       "    .dataframe tbody tr th {\n",
       "        vertical-align: top;\n",
       "    }\n",
       "\n",
       "    .dataframe thead th {\n",
       "        text-align: right;\n",
       "    }\n",
       "</style>\n",
       "<table border=\"1\" class=\"dataframe\">\n",
       "  <thead>\n",
       "    <tr style=\"text-align: right;\">\n",
       "      <th></th>\n",
       "      <th>AZ_cases_avg</th>\n",
       "      <th>countyFIPS</th>\n",
       "      <th>Estimate Total population</th>\n",
       "      <th>Margin of Error Total population</th>\n",
       "      <th>Percent Total population</th>\n",
       "      <th>Percent Margin of Error Total population</th>\n",
       "      <th>Estimate Total population Male</th>\n",
       "      <th>Margin of Error Total population Male</th>\n",
       "      <th>Percent Total population Male</th>\n",
       "      <th>Percent Margin of Error Total population Male</th>\n",
       "      <th>...</th>\n",
       "      <th>Estimate Citizen, 18 and over population Male</th>\n",
       "      <th>Margin of Error Citizen, 18 and over population Male</th>\n",
       "      <th>Percent Citizen, 18 and over population Male</th>\n",
       "      <th>Percent Margin of Error Citizen, 18 and over population Male</th>\n",
       "      <th>Estimate Citizen, 18 and over population Female</th>\n",
       "      <th>Margin of Error Citizen, 18 and over population Female</th>\n",
       "      <th>Percent Citizen, 18 and over population Female</th>\n",
       "      <th>Percent Margin of Error Citizen, 18 and over population Female</th>\n",
       "      <th>id</th>\n",
       "      <th>Geographic Area Name</th>\n",
       "    </tr>\n",
       "  </thead>\n",
       "  <tbody>\n",
       "    <tr>\n",
       "      <th>0</th>\n",
       "      <td>21.0</td>\n",
       "      <td>4001</td>\n",
       "      <td>71887.0</td>\n",
       "      <td>*****</td>\n",
       "      <td>71887.0</td>\n",
       "      <td>(X)</td>\n",
       "      <td>36435.0</td>\n",
       "      <td>626</td>\n",
       "      <td>50.7</td>\n",
       "      <td>0.9</td>\n",
       "      <td>...</td>\n",
       "      <td>26167.0</td>\n",
       "      <td>680.0</td>\n",
       "      <td>49.7</td>\n",
       "      <td>0.9</td>\n",
       "      <td>26483.0</td>\n",
       "      <td>428.0</td>\n",
       "      <td>50.3</td>\n",
       "      <td>0.9</td>\n",
       "      <td>4001.0</td>\n",
       "      <td>Apache County, Arizona</td>\n",
       "    </tr>\n",
       "    <tr>\n",
       "      <th>1</th>\n",
       "      <td>22.0</td>\n",
       "      <td>4003</td>\n",
       "      <td>125922.0</td>\n",
       "      <td>*****</td>\n",
       "      <td>125922.0</td>\n",
       "      <td>(X)</td>\n",
       "      <td>64204.0</td>\n",
       "      <td>969</td>\n",
       "      <td>51.0</td>\n",
       "      <td>0.8</td>\n",
       "      <td>...</td>\n",
       "      <td>48203.0</td>\n",
       "      <td>1107.0</td>\n",
       "      <td>51.7</td>\n",
       "      <td>1.0</td>\n",
       "      <td>44991.0</td>\n",
       "      <td>1202.0</td>\n",
       "      <td>48.3</td>\n",
       "      <td>1.0</td>\n",
       "      <td>4003.0</td>\n",
       "      <td>Cochise County, Arizona</td>\n",
       "    </tr>\n",
       "    <tr>\n",
       "      <th>2</th>\n",
       "      <td>34.0</td>\n",
       "      <td>4005</td>\n",
       "      <td>143476.0</td>\n",
       "      <td>*****</td>\n",
       "      <td>143476.0</td>\n",
       "      <td>(X)</td>\n",
       "      <td>71036.0</td>\n",
       "      <td>1057</td>\n",
       "      <td>49.5</td>\n",
       "      <td>0.7</td>\n",
       "      <td>...</td>\n",
       "      <td>55075.0</td>\n",
       "      <td>773.0</td>\n",
       "      <td>48.8</td>\n",
       "      <td>0.6</td>\n",
       "      <td>57851.0</td>\n",
       "      <td>779.0</td>\n",
       "      <td>51.2</td>\n",
       "      <td>0.6</td>\n",
       "      <td>4005.0</td>\n",
       "      <td>Coconino County, Arizona</td>\n",
       "    </tr>\n",
       "    <tr>\n",
       "      <th>7</th>\n",
       "      <td>1075.0</td>\n",
       "      <td>4013</td>\n",
       "      <td>4485414.0</td>\n",
       "      <td>*****</td>\n",
       "      <td>4485414.0</td>\n",
       "      <td>(X)</td>\n",
       "      <td>2217116.0</td>\n",
       "      <td>479</td>\n",
       "      <td>49.4</td>\n",
       "      <td>0.1</td>\n",
       "      <td>...</td>\n",
       "      <td>1503528.0</td>\n",
       "      <td>8066.0</td>\n",
       "      <td>48.8</td>\n",
       "      <td>0.1</td>\n",
       "      <td>1578940.0</td>\n",
       "      <td>8232.0</td>\n",
       "      <td>51.2</td>\n",
       "      <td>0.1</td>\n",
       "      <td>4013.0</td>\n",
       "      <td>Maricopa County, Arizona</td>\n",
       "    </tr>\n",
       "    <tr>\n",
       "      <th>8</th>\n",
       "      <td>47.0</td>\n",
       "      <td>4015</td>\n",
       "      <td>212181.0</td>\n",
       "      <td>*****</td>\n",
       "      <td>212181.0</td>\n",
       "      <td>(X)</td>\n",
       "      <td>106919.0</td>\n",
       "      <td>934</td>\n",
       "      <td>50.4</td>\n",
       "      <td>0.4</td>\n",
       "      <td>...</td>\n",
       "      <td>86451.0</td>\n",
       "      <td>1324.0</td>\n",
       "      <td>50.6</td>\n",
       "      <td>0.5</td>\n",
       "      <td>84552.0</td>\n",
       "      <td>1394.0</td>\n",
       "      <td>49.4</td>\n",
       "      <td>0.5</td>\n",
       "      <td>4015.0</td>\n",
       "      <td>Mohave County, Arizona</td>\n",
       "    </tr>\n",
       "    <tr>\n",
       "      <th>9</th>\n",
       "      <td>31.0</td>\n",
       "      <td>4017</td>\n",
       "      <td>110924.0</td>\n",
       "      <td>*****</td>\n",
       "      <td>110924.0</td>\n",
       "      <td>(X)</td>\n",
       "      <td>54994.0</td>\n",
       "      <td>663</td>\n",
       "      <td>49.6</td>\n",
       "      <td>0.6</td>\n",
       "      <td>...</td>\n",
       "      <td>40165.0</td>\n",
       "      <td>452.0</td>\n",
       "      <td>50.0</td>\n",
       "      <td>0.4</td>\n",
       "      <td>40245.0</td>\n",
       "      <td>652.0</td>\n",
       "      <td>50.0</td>\n",
       "      <td>0.4</td>\n",
       "      <td>4017.0</td>\n",
       "      <td>Navajo County, Arizona</td>\n",
       "    </tr>\n",
       "    <tr>\n",
       "      <th>10</th>\n",
       "      <td>217.0</td>\n",
       "      <td>4019</td>\n",
       "      <td>1047279.0</td>\n",
       "      <td>*****</td>\n",
       "      <td>1047279.0</td>\n",
       "      <td>(X)</td>\n",
       "      <td>516110.0</td>\n",
       "      <td>495</td>\n",
       "      <td>49.3</td>\n",
       "      <td>0.1</td>\n",
       "      <td>...</td>\n",
       "      <td>371071.0</td>\n",
       "      <td>4038.0</td>\n",
       "      <td>48.8</td>\n",
       "      <td>0.3</td>\n",
       "      <td>390039.0</td>\n",
       "      <td>3941.0</td>\n",
       "      <td>51.2</td>\n",
       "      <td>0.3</td>\n",
       "      <td>4019.0</td>\n",
       "      <td>Pima County, Arizona</td>\n",
       "    </tr>\n",
       "    <tr>\n",
       "      <th>11</th>\n",
       "      <td>105.0</td>\n",
       "      <td>4021</td>\n",
       "      <td>462789.0</td>\n",
       "      <td>*****</td>\n",
       "      <td>462789.0</td>\n",
       "      <td>(X)</td>\n",
       "      <td>241369.0</td>\n",
       "      <td>889</td>\n",
       "      <td>52.2</td>\n",
       "      <td>0.2</td>\n",
       "      <td>...</td>\n",
       "      <td>178886.0</td>\n",
       "      <td>1803.0</td>\n",
       "      <td>52.7</td>\n",
       "      <td>0.4</td>\n",
       "      <td>160703.0</td>\n",
       "      <td>2146.0</td>\n",
       "      <td>47.3</td>\n",
       "      <td>0.4</td>\n",
       "      <td>4021.0</td>\n",
       "      <td>Pinal County, Arizona</td>\n",
       "    </tr>\n",
       "    <tr>\n",
       "      <th>13</th>\n",
       "      <td>39.0</td>\n",
       "      <td>4025</td>\n",
       "      <td>235099.0</td>\n",
       "      <td>*****</td>\n",
       "      <td>235099.0</td>\n",
       "      <td>(X)</td>\n",
       "      <td>115634.0</td>\n",
       "      <td>813</td>\n",
       "      <td>49.2</td>\n",
       "      <td>0.3</td>\n",
       "      <td>...</td>\n",
       "      <td>92791.0</td>\n",
       "      <td>1479.0</td>\n",
       "      <td>49.0</td>\n",
       "      <td>0.6</td>\n",
       "      <td>96768.0</td>\n",
       "      <td>1568.0</td>\n",
       "      <td>51.0</td>\n",
       "      <td>0.6</td>\n",
       "      <td>4025.0</td>\n",
       "      <td>Yavapai County, Arizona</td>\n",
       "    </tr>\n",
       "    <tr>\n",
       "      <th>14</th>\n",
       "      <td>67.0</td>\n",
       "      <td>4027</td>\n",
       "      <td>213787.0</td>\n",
       "      <td>*****</td>\n",
       "      <td>213787.0</td>\n",
       "      <td>(X)</td>\n",
       "      <td>110189.0</td>\n",
       "      <td>591</td>\n",
       "      <td>51.5</td>\n",
       "      <td>0.3</td>\n",
       "      <td>...</td>\n",
       "      <td>69067.0</td>\n",
       "      <td>2325.0</td>\n",
       "      <td>52.4</td>\n",
       "      <td>1.0</td>\n",
       "      <td>62733.0</td>\n",
       "      <td>1984.0</td>\n",
       "      <td>47.6</td>\n",
       "      <td>1.0</td>\n",
       "      <td>4027.0</td>\n",
       "      <td>Yuma County, Arizona</td>\n",
       "    </tr>\n",
       "  </tbody>\n",
       "</table>\n",
       "<p>10 rows × 360 columns</p>\n",
       "</div>"
      ],
      "text/plain": [
       "    AZ_cases_avg  countyFIPS  Estimate Total population  \\\n",
       "0           21.0        4001                    71887.0   \n",
       "1           22.0        4003                   125922.0   \n",
       "2           34.0        4005                   143476.0   \n",
       "7         1075.0        4013                  4485414.0   \n",
       "8           47.0        4015                   212181.0   \n",
       "9           31.0        4017                   110924.0   \n",
       "10         217.0        4019                  1047279.0   \n",
       "11         105.0        4021                   462789.0   \n",
       "13          39.0        4025                   235099.0   \n",
       "14          67.0        4027                   213787.0   \n",
       "\n",
       "   Margin of Error Total population  Percent Total population  \\\n",
       "0                             *****                   71887.0   \n",
       "1                             *****                  125922.0   \n",
       "2                             *****                  143476.0   \n",
       "7                             *****                 4485414.0   \n",
       "8                             *****                  212181.0   \n",
       "9                             *****                  110924.0   \n",
       "10                            *****                 1047279.0   \n",
       "11                            *****                  462789.0   \n",
       "13                            *****                  235099.0   \n",
       "14                            *****                  213787.0   \n",
       "\n",
       "   Percent Margin of Error Total population  Estimate Total population Male  \\\n",
       "0                                       (X)                         36435.0   \n",
       "1                                       (X)                         64204.0   \n",
       "2                                       (X)                         71036.0   \n",
       "7                                       (X)                       2217116.0   \n",
       "8                                       (X)                        106919.0   \n",
       "9                                       (X)                         54994.0   \n",
       "10                                      (X)                        516110.0   \n",
       "11                                      (X)                        241369.0   \n",
       "13                                      (X)                        115634.0   \n",
       "14                                      (X)                        110189.0   \n",
       "\n",
       "   Margin of Error Total population Male  Percent Total population Male  \\\n",
       "0                                    626                           50.7   \n",
       "1                                    969                           51.0   \n",
       "2                                   1057                           49.5   \n",
       "7                                    479                           49.4   \n",
       "8                                    934                           50.4   \n",
       "9                                    663                           49.6   \n",
       "10                                   495                           49.3   \n",
       "11                                   889                           52.2   \n",
       "13                                   813                           49.2   \n",
       "14                                   591                           51.5   \n",
       "\n",
       "   Percent Margin of Error Total population Male  ...  \\\n",
       "0                                            0.9  ...   \n",
       "1                                            0.8  ...   \n",
       "2                                            0.7  ...   \n",
       "7                                            0.1  ...   \n",
       "8                                            0.4  ...   \n",
       "9                                            0.6  ...   \n",
       "10                                           0.1  ...   \n",
       "11                                           0.2  ...   \n",
       "13                                           0.3  ...   \n",
       "14                                           0.3  ...   \n",
       "\n",
       "    Estimate Citizen, 18 and over population Male  \\\n",
       "0                                         26167.0   \n",
       "1                                         48203.0   \n",
       "2                                         55075.0   \n",
       "7                                       1503528.0   \n",
       "8                                         86451.0   \n",
       "9                                         40165.0   \n",
       "10                                       371071.0   \n",
       "11                                       178886.0   \n",
       "13                                        92791.0   \n",
       "14                                        69067.0   \n",
       "\n",
       "   Margin of Error Citizen, 18 and over population Male  \\\n",
       "0                                               680.0     \n",
       "1                                              1107.0     \n",
       "2                                               773.0     \n",
       "7                                              8066.0     \n",
       "8                                              1324.0     \n",
       "9                                               452.0     \n",
       "10                                             4038.0     \n",
       "11                                             1803.0     \n",
       "13                                             1479.0     \n",
       "14                                             2325.0     \n",
       "\n",
       "    Percent Citizen, 18 and over population Male  \\\n",
       "0                                           49.7   \n",
       "1                                           51.7   \n",
       "2                                           48.8   \n",
       "7                                           48.8   \n",
       "8                                           50.6   \n",
       "9                                           50.0   \n",
       "10                                          48.8   \n",
       "11                                          52.7   \n",
       "13                                          49.0   \n",
       "14                                          52.4   \n",
       "\n",
       "   Percent Margin of Error Citizen, 18 and over population Male  \\\n",
       "0                                                 0.9             \n",
       "1                                                 1.0             \n",
       "2                                                 0.6             \n",
       "7                                                 0.1             \n",
       "8                                                 0.5             \n",
       "9                                                 0.4             \n",
       "10                                                0.3             \n",
       "11                                                0.4             \n",
       "13                                                0.6             \n",
       "14                                                1.0             \n",
       "\n",
       "    Estimate Citizen, 18 and over population Female  \\\n",
       "0                                           26483.0   \n",
       "1                                           44991.0   \n",
       "2                                           57851.0   \n",
       "7                                         1578940.0   \n",
       "8                                           84552.0   \n",
       "9                                           40245.0   \n",
       "10                                         390039.0   \n",
       "11                                         160703.0   \n",
       "13                                          96768.0   \n",
       "14                                          62733.0   \n",
       "\n",
       "   Margin of Error Citizen, 18 and over population Female  \\\n",
       "0                                               428.0       \n",
       "1                                              1202.0       \n",
       "2                                               779.0       \n",
       "7                                              8232.0       \n",
       "8                                              1394.0       \n",
       "9                                               652.0       \n",
       "10                                             3941.0       \n",
       "11                                             2146.0       \n",
       "13                                             1568.0       \n",
       "14                                             1984.0       \n",
       "\n",
       "   Percent Citizen, 18 and over population Female  \\\n",
       "0                                            50.3   \n",
       "1                                            48.3   \n",
       "2                                            51.2   \n",
       "7                                            51.2   \n",
       "8                                            49.4   \n",
       "9                                            50.0   \n",
       "10                                           51.2   \n",
       "11                                           47.3   \n",
       "13                                           51.0   \n",
       "14                                           47.6   \n",
       "\n",
       "   Percent Margin of Error Citizen, 18 and over population Female      id  \\\n",
       "0                                                 0.9              4001.0   \n",
       "1                                                 1.0              4003.0   \n",
       "2                                                 0.6              4005.0   \n",
       "7                                                 0.1              4013.0   \n",
       "8                                                 0.5              4015.0   \n",
       "9                                                 0.4              4017.0   \n",
       "10                                                0.3              4019.0   \n",
       "11                                                0.4              4021.0   \n",
       "13                                                0.6              4025.0   \n",
       "14                                                1.0              4027.0   \n",
       "\n",
       "        Geographic Area Name  \n",
       "0     Apache County, Arizona  \n",
       "1    Cochise County, Arizona  \n",
       "2   Coconino County, Arizona  \n",
       "7   Maricopa County, Arizona  \n",
       "8     Mohave County, Arizona  \n",
       "9     Navajo County, Arizona  \n",
       "10      Pima County, Arizona  \n",
       "11     Pinal County, Arizona  \n",
       "13   Yavapai County, Arizona  \n",
       "14      Yuma County, Arizona  \n",
       "\n",
       "[10 rows x 360 columns]"
      ]
     },
     "execution_count": 34,
     "metadata": {},
     "output_type": "execute_result"
    }
   ],
   "source": [
    "#reading demographic data\n",
    "demographic = pd.read_csv(\"../../../../data/stage_1/acs demographic.csv\", header = 1)\n",
    "demographic.head()\n",
    "#creating the index\n",
    "demographic['id'] = (demographic['id'].str[-5:]).astype(int)\n",
    "\n",
    "#Getting the average new cases per county \n",
    "AZ_avg_cases = pd.DataFrame(AZ_new_cases.mean(axis=1).round())\n",
    "AZ_avg_cases.columns = ['AZ_cases_avg']\n",
    "\n",
    "#joining all of the data\n",
    "AZ_avg_cd_ = AZ_avg_cases.join(AZ_cases['countyFIPS'])\n",
    "AZ_avg_cd_ = pd.merge(AZ_avg_cd_, demographic,left_on = 'countyFIPS', right_on= 'id', how = 'left')\n",
    "\n",
    "#Dropping the counties if they have no demographic data\n",
    "AZ_avg_cd_ = AZ_avg_cd_.dropna()\n",
    "AZ_avg_cd_"
   ]
  },
  {
   "cell_type": "markdown",
   "id": "1f13f474",
   "metadata": {},
   "source": [
    "Do higher percentages of population over 18 lead to higher covid case numbers?\n",
    "- Our null hypothesis is that that higher percentages of population over 18 have no effect on covid case numbers\n",
    "- Our alternative is that higher percentages of population over 18 have an effect on covid case numbers"
   ]
  },
  {
   "cell_type": "code",
   "execution_count": 35,
   "id": "84590864",
   "metadata": {},
   "outputs": [
    {
     "data": {
      "text/plain": [
       "Ttest_indResult(statistic=0.8523385281122106, pvalue=0.4161250012108232)"
      ]
     },
     "execution_count": 35,
     "metadata": {},
     "output_type": "execute_result"
    }
   ],
   "source": [
    "stats.ttest_ind(a= AZ_avg_cd_['AZ_cases_avg'],\n",
    "                b= AZ_avg_cd_['Percent Total population 18 years and over'],\n",
    "                equal_var=False)"
   ]
  },
  {
   "cell_type": "markdown",
   "id": "24fe65e8",
   "metadata": {},
   "source": [
    "With a confidence level of 95%, We fail to reject the null hypothesis as the p-value is greater than an alpha of .05. Meaning we do not have significant evidence to conclude that higher percentages of population over 18 in Arizona lead to higher covid case numbers"
   ]
  },
  {
   "cell_type": "markdown",
   "id": "66dd1f5b",
   "metadata": {},
   "source": [
    "Do higher percentages of population under 5 lead to higher covid case numbers?\n",
    "- Our null hypothesis is that that higher percentages of population under 5 have no effect on covid case numbers\n",
    "- Our alternative is that higher percentages of population under 5 have an effect on covid case numbers"
   ]
  },
  {
   "cell_type": "code",
   "execution_count": 36,
   "id": "228c57e5",
   "metadata": {},
   "outputs": [
    {
     "data": {
      "text/plain": [
       "Ttest_indResult(statistic=1.5595685163673603, pvalue=0.15329193326908505)"
      ]
     },
     "execution_count": 36,
     "metadata": {},
     "output_type": "execute_result"
    }
   ],
   "source": [
    "stats.ttest_ind(a= AZ_avg_cd_['AZ_cases_avg'],\n",
    "                b= AZ_avg_cd_['Percent Total population Under 5 years'],\n",
    "                equal_var=False)"
   ]
  },
  {
   "cell_type": "markdown",
   "id": "d8baa089",
   "metadata": {},
   "source": [
    "With a confidence level of 95%, We fail to reject the null hypothesis as the p-value is greater than an alpha of .05. Meaning we do not have significant evidence to conclude that higher percentages of population under 5 in Arizona lead to higher covid case numbers"
   ]
  },
  {
   "cell_type": "markdown",
   "id": "268d0229",
   "metadata": {},
   "source": [
    "Do higher percentages of female population lead to higher covid case numbers?\n",
    "- Our null hypothesis is that that higher percentages of female population have no effect on covid case numbers\n",
    "- Our alternative is that higher percentages of female population have an effect on covid case numbers"
   ]
  },
  {
   "cell_type": "code",
   "execution_count": 37,
   "id": "64b7a23b",
   "metadata": {},
   "outputs": [
    {
     "data": {
      "text/plain": [
       "Ttest_indResult(statistic=1.1297722930397065, pvalue=0.2877816827166813)"
      ]
     },
     "execution_count": 37,
     "metadata": {},
     "output_type": "execute_result"
    }
   ],
   "source": [
    "stats.ttest_ind(a= AZ_avg_cd_['AZ_cases_avg'],\n",
    "                b= AZ_avg_cd_['Percent Total population Female'],\n",
    "                equal_var=False)"
   ]
  },
  {
   "cell_type": "markdown",
   "id": "6ed3c13d",
   "metadata": {},
   "source": [
    "With a confidence level of 95%, We fail to reject the null hypothesis as the p-value is greater than an alpha of .05. Meaning we do not have significant evidence to conclude that higher percentages of female population in Arizona lead to higher covid case numbers"
   ]
  },
  {
   "cell_type": "markdown",
   "id": "9935687c",
   "metadata": {},
   "source": [
    "## Task 2: (30 pts)\n",
    "Member:\n",
    "For each of the aforemention analysis plot graphs,\n",
    "trend line\n",
    "confidence intervals (error in prediction)\n",
    "prediction path (forecast)"
   ]
  },
  {
   "cell_type": "markdown",
   "id": "0117340d",
   "metadata": {},
   "source": [
    "### Regression plots "
   ]
  },
  {
   "cell_type": "markdown",
   "id": "626419d1",
   "metadata": {},
   "source": [
    "### Linear"
   ]
  },
  {
   "cell_type": "code",
   "execution_count": 47,
   "id": "34114fca",
   "metadata": {
    "scrolled": false
   },
   "outputs": [
    {
     "data": {
      "image/png": "[encoded data removed]",
      "text/plain": [
       "<IPython.core.display.Image object>"
      ]
     },
     "execution_count": 47,
     "metadata": {},
     "output_type": "execute_result"
    }
   ],
   "source": [
    "from plotly.subplots import make_subplots\n",
    "\n",
    "fig = make_subplots(rows=1, cols=2, subplot_titles=(\"Apache County cases\", \"Apache County Deaths\"))\n",
    "\n",
    "#Cases\n",
    "#plotting just the scatter plot \n",
    "fig.add_trace(go.Scatter(x=data_c.index, y=data_c[99], mode='markers'),row = 1, col = 1)\n",
    "#making the prediction range \n",
    "x = pd.DataFrame({'data_c.index': np.linspace(data_c.index.min(), data_c.index.max(), 568)})\n",
    "#plotting the linear predictions\n",
    "fig.add_trace(go.Scatter(x = data_c.index, y = apache_rg_c.predict(x), name = 'linear'),row = 1, col = 1)\n",
    "#polynomial predictions\n",
    "fig.add_trace(go.Scatter(x = data_c.index, y = apache_poly_c.predict(x), name = 'poly 2'), row = 1, col = 1)\n",
    "\n",
    "#deaths\n",
    "#plotting just the scatter plot \n",
    "fig.add_trace(go.Scatter(x= data_d.index, y=data_d[99], mode='markers'),row = 1, col = 2)\n",
    "#making the prediction range \n",
    "x = pd.DataFrame({'data_d.index': np.linspace(data_d.index.min(), data_d.index.max(), 568)})\n",
    "#plotting the linear predictions\n",
    "fig.add_trace(go.Scatter(x = data_d.index, y = apache_rg_d.predict(x), name = 'linear'),row = 1, col = 2)\n",
    "#polynomial predictions\n",
    "fig.add_trace(go.Scatter(x = data_d.index, y = apache_poly_2_d.predict(x), name = 'poly 2'), row = 1, col = 2)\n",
    "img_bytes = fig.to_image(format=\"png\")\n",
    "Image(img_bytes)\n"
   ]
  },
  {
   "cell_type": "code",
   "execution_count": 46,
   "id": "6d6fb4cb",
   "metadata": {},
   "outputs": [
    {
     "data": {
      "image/png": "[encoded data removed]",
      "text/plain": [
       "<IPython.core.display.Image object>"
      ]
     },
     "execution_count": 46,
     "metadata": {},
     "output_type": "execute_result"
    }
   ],
   "source": [
    "fig = make_subplots(rows=1, cols=2, subplot_titles=(\"cochise County cases\", \"cochise County Deaths\"))\n",
    "\n",
    "#Cases\n",
    "#plotting just the scatter plot \n",
    "fig.add_trace(go.Scatter(x=data_c.index, y=data_c[100], mode='markers'),row = 1, col = 1)\n",
    "#making the prediction range \n",
    "x = pd.DataFrame({'data_c.index': np.linspace(data_c.index.min(), data_c.index.max(), 568)})\n",
    "#plotting the linear predictions\n",
    "fig.add_trace(go.Scatter(x = data_c.index, y = cochise_rg_c.predict(x), name = 'linear'),row = 1, col = 1)\n",
    "#polynomial predictions\n",
    "fig.add_trace(go.Scatter(x = data_c.index, y = cochise_poly_c.predict(x), name = 'poly 2'), row = 1, col = 1)\n",
    "\n",
    "#deaths\n",
    "#plotting just the scatter plot \n",
    "fig.add_trace(go.Scatter(x= data_d.index, y=data_d[100], mode='markers'),row = 1, col = 2)\n",
    "#making the prediction range \n",
    "x = pd.DataFrame({'data_d.index': np.linspace(data_d.index.min(), data_d.index.max(), 568)})\n",
    "#plotting the linear predictions\n",
    "fig.add_trace(go.Scatter(x = data_d.index, y = cochise_rg_d.predict(x), name = 'linear'),row = 1, col = 2)\n",
    "#polynomial predictions\n",
    "fig.add_trace(go.Scatter(x = data_d.index, y = cochise_poly_2_d.predict(x), name = 'poly 2'), row = 1, col = 2)\n",
    "img_bytes = fig.to_image(format=\"png\")\n",
    "Image(img_bytes)"
   ]
  },
  {
   "cell_type": "code",
   "execution_count": 45,
   "id": "5fc18d67",
   "metadata": {},
   "outputs": [
    {
     "data": {
      "image/png": "[encoded data removed]",
      "text/plain": [
       "<IPython.core.display.Image object>"
      ]
     },
     "execution_count": 45,
     "metadata": {},
     "output_type": "execute_result"
    }
   ],
   "source": [
    "fig = make_subplots(rows=1, cols=2, subplot_titles=(\"coconino County cases\", \"coconino County Deaths\"))\n",
    "\n",
    "#Cases\n",
    "#plotting just the scatter plot \n",
    "fig.add_trace(go.Scatter(x=data_c.index, y=data_c[101], mode='markers'),row = 1, col = 1)\n",
    "#making the prediction range \n",
    "x = pd.DataFrame({'data_c.index': np.linspace(data_c.index.min(), data_c.index.max(), 568)})\n",
    "#plotting the linear predictions\n",
    "fig.add_trace(go.Scatter(x = data_c.index, y = coconino_rg_c.predict(x), name = 'linear'),row = 1, col = 1)\n",
    "#polynomial predictions\n",
    "fig.add_trace(go.Scatter(x = data_c.index, y = coconino_poly_c.predict(x), name = 'poly 2'), row = 1, col = 1)\n",
    "\n",
    "#deaths\n",
    "#plotting just the scatter plot \n",
    "fig.add_trace(go.Scatter(x= data_d.index, y=data_d[101], mode='markers'),row = 1, col = 2)\n",
    "#making the prediction range \n",
    "x = pd.DataFrame({'data_d.index': np.linspace(data_d.index.min(), data_d.index.max(), 568)})\n",
    "#plotting the linear predictions\n",
    "fig.add_trace(go.Scatter(x = data_d.index, y = coconino_rg_d.predict(x), name = 'linear'),row = 1, col = 2)\n",
    "#polynomial predictions\n",
    "fig.add_trace(go.Scatter(x = data_d.index, y = coconino_poly_2_d.predict(x), name = 'poly 2'), row = 1, col = 2)\n",
    "img_bytes = fig.to_image(format=\"png\")\n",
    "Image(img_bytes)"
   ]
  },
  {
   "cell_type": "code",
   "execution_count": 44,
   "id": "f07ccec7",
   "metadata": {},
   "outputs": [
    {
     "data": {
      "image/png": "[encoded data removed]",
      "text/plain": [
       "<IPython.core.display.Image object>"
      ]
     },
     "execution_count": 44,
     "metadata": {},
     "output_type": "execute_result"
    }
   ],
   "source": [
    "fig = make_subplots(rows=1, cols=2, subplot_titles=(\"Maricopa County cases\", \"Maricopa County Deaths\"))\n",
    "\n",
    "#Cases\n",
    "#plotting just the scatter plot \n",
    "fig.add_trace(go.Scatter(x=data_c.index, y=data_c[106], mode='markers'),row = 1, col = 1)\n",
    "#making the prediction range \n",
    "x = pd.DataFrame({'data_c.index': np.linspace(data_c.index.min(), data_c.index.max(), 568)})\n",
    "#plotting the linear predictions\n",
    "fig.add_trace(go.Scatter(x = data_c.index, y = Maricopa_rg_c.predict(x), name = 'linear'),row = 1, col = 1)\n",
    "#polynomial predictions\n",
    "fig.add_trace(go.Scatter(x = data_c.index, y = Maricopa_poly_c.predict(x), name = 'poly 2'), row = 1, col = 1)\n",
    "\n",
    "#deaths\n",
    "#plotting just the scatter plot \n",
    "fig.add_trace(go.Scatter(x= data_d.index, y=data_d[106], mode='markers'),row = 1, col = 2)\n",
    "#making the prediction range \n",
    "x = pd.DataFrame({'data_d.index': np.linspace(data_d.index.min(), data_d.index.max(), 568)})\n",
    "#plotting the linear predictions\n",
    "fig.add_trace(go.Scatter(x = data_d.index, y = Maricopa_rg_d.predict(x), name = 'linear'),row = 1, col = 2)\n",
    "#polynomial predictions\n",
    "fig.add_trace(go.Scatter(x = data_d.index, y = Maricopa_poly_2_d.predict(x), name = 'poly 2'), row = 1, col = 2)\n",
    "img_bytes = fig.to_image(format=\"png\")\n",
    "Image(img_bytes)"
   ]
  },
  {
   "cell_type": "code",
   "execution_count": 43,
   "id": "721aa1ef",
   "metadata": {},
   "outputs": [
    {
     "data": {
      "image/png": "[encoded data removed]",
      "text/plain": [
       "<IPython.core.display.Image object>"
      ]
     },
     "execution_count": 43,
     "metadata": {},
     "output_type": "execute_result"
    }
   ],
   "source": [
    "fig = make_subplots(rows=1, cols=2, subplot_titles=(\"Pima County cases\", \"Pima County Deaths\"))\n",
    "\n",
    "#Cases\n",
    "#plotting just the scatter plot \n",
    "fig.add_trace(go.Scatter(x=data_c.index, y=data_c[109], mode='markers'),row = 1, col = 1)\n",
    "#making the prediction range \n",
    "x = pd.DataFrame({'data_c.index': np.linspace(data_c.index.min(), data_c.index.max(), 568)})\n",
    "#plotting the linear predictions\n",
    "fig.add_trace(go.Scatter(x = data_c.index, y = Pima_rg_c.predict(x), name = 'linear'),row = 1, col = 1)\n",
    "#polynomial predictions\n",
    "fig.add_trace(go.Scatter(x = data_c.index, y = Pima_poly_c.predict(x), name = 'poly 2'), row = 1, col = 1)\n",
    "\n",
    "#deaths\n",
    "#plotting just the scatter plot \n",
    "fig.add_trace(go.Scatter(x= data_d.index, y=data_d[109], mode='markers'),row = 1, col = 2)\n",
    "#making the prediction range \n",
    "x = pd.DataFrame({'data_d.index': np.linspace(data_d.index.min(), data_d.index.max(), 568)})\n",
    "#plotting the linear predictions\n",
    "fig.add_trace(go.Scatter(x = data_d.index, y = Pima_rg_d.predict(x), name = 'linear'),row = 1, col = 2)\n",
    "#polynomial predictions\n",
    "fig.add_trace(go.Scatter(x = data_d.index, y = Pima_poly_2_d.predict(x), name = 'poly 2'), row = 1, col = 2)\n",
    "img_bytes = fig.to_image(format=\"png\")\n",
    "Image(img_bytes)"
   ]
  },
  {
   "cell_type": "markdown",
   "id": "ab0ca0e1",
   "metadata": {},
   "source": [
    "Overall all of these graphs show that the polynomial regression models fit the data beter than the linear regression model. With the polunomial models we have low bias and moderate variance"
   ]
  },
  {
   "cell_type": "code",
   "execution_count": null,
   "id": "05af0e4b",
   "metadata": {},
   "outputs": [],
   "source": []
  }
 ],
 "metadata": {
  "kernelspec": {
   "display_name": "myenv",
   "language": "python",
   "name": "myenv"
  },
  "language_info": {
   "codemirror_mode": {
    "name": "ipython",
    "version": 3
   },
   "file_extension": ".py",
   "mimetype": "text/x-python",
   "name": "python",
   "nbconvert_exporter": "python",
   "pygments_lexer": "ipython3",
   "version": "3.9.7"
  }
 },
 "nbformat": 4,
 "nbformat_minor": 5
}
